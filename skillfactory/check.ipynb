{
 "cells": [
  {
   "cell_type": "code",
   "execution_count": 2,
   "metadata": {},
   "outputs": [],
   "source": [
    "import numpy as np\n",
    "import pandas as pd\n"
   ]
  },
  {
   "cell_type": "code",
   "execution_count": null,
   "metadata": {},
   "outputs": [],
   "source": []
  },
  {
   "cell_type": "code",
   "execution_count": 2,
   "metadata": {},
   "outputs": [],
   "source": [
    "a = np.int8(25)"
   ]
  },
  {
   "cell_type": "code",
   "execution_count": 3,
   "metadata": {},
   "outputs": [
    {
     "name": "stdout",
     "output_type": "stream",
     "text": [
      "<class 'numpy.int8'>\n"
     ]
    }
   ],
   "source": [
    "print(type(a))"
   ]
  },
  {
   "cell_type": "code",
   "execution_count": 12,
   "metadata": {},
   "outputs": [
    {
     "data": {
      "text/plain": [
       "iinfo(min=-9223372036854775808, max=9223372036854775807, dtype=int64)"
      ]
     },
     "execution_count": 12,
     "metadata": {},
     "output_type": "execute_result"
    }
   ],
   "source": [
    "np.iinfo(np.int64)\n",
    "# np.iinfo(a)"
   ]
  },
  {
   "cell_type": "code",
   "execution_count": 13,
   "metadata": {},
   "outputs": [
    {
     "name": "stdout",
     "output_type": "stream",
     "text": [
      "124\n",
      "<class 'numpy.uint8'>\n"
     ]
    },
    {
     "data": {
      "text/plain": [
       "iinfo(min=0, max=255, dtype=uint8)"
      ]
     },
     "execution_count": 13,
     "metadata": {},
     "output_type": "execute_result"
    }
   ],
   "source": [
    "b = np.uint8(124)\n",
    "print(b)\n",
    "# 124\n",
    "print(type(b))\n",
    "# <class 'numpy.uint8'>\n",
    "np.iinfo(b)"
   ]
  },
  {
   "cell_type": "code",
   "execution_count": 16,
   "metadata": {},
   "outputs": [
    {
     "name": "stdout",
     "output_type": "stream",
     "text": [
      "2147483610 2147483605\n",
      "-81\n"
     ]
    },
    {
     "name": "stderr",
     "output_type": "stream",
     "text": [
      "C:\\Users\\Павел\\AppData\\Local\\Temp\\ipykernel_19420\\3438126313.py:5: RuntimeWarning: overflow encountered in long_scalars\n",
      "  print(a + b)\n"
     ]
    }
   ],
   "source": [
    "a = np.int32(2147483610)\n",
    "b = np.int32(2147483605)\n",
    "print(a, b)\n",
    "# 2147483610 2147483605\n",
    "print(a + b)\n",
    "\n"
   ]
  },
  {
   "cell_type": "code",
   "execution_count": 17,
   "metadata": {},
   "outputs": [
    {
     "name": "stdout",
     "output_type": "stream",
     "text": [
      "2147483610 2147483605\n",
      "4294967215\n"
     ]
    }
   ],
   "source": [
    "a = np.int32(2147483610)\n",
    "b = np.int32(2147483605)\n",
    "print(a, b)\n",
    "# 2147483610 2147483605\n",
    "print(np.int64(a) + np.int64(b))"
   ]
  },
  {
   "cell_type": "code",
   "execution_count": 19,
   "metadata": {},
   "outputs": [
    {
     "name": "stdout",
     "output_type": "stream",
     "text": [
      "<class 'numpy.bool_'>\n",
      "<class 'numpy.bytes_'>\n",
      "<class 'numpy.clongdouble'>\n",
      "<class 'numpy.complex128'>\n",
      "<class 'numpy.complex64'>\n",
      "<class 'numpy.datetime64'>\n",
      "<class 'numpy.float16'>\n",
      "<class 'numpy.float32'>\n",
      "<class 'numpy.float64'>\n",
      "<class 'numpy.int16'>\n",
      "<class 'numpy.int32'>\n",
      "<class 'numpy.int64'>\n",
      "<class 'numpy.int8'>\n",
      "<class 'numpy.intc'>\n",
      "<class 'numpy.longdouble'>\n",
      "<class 'numpy.object_'>\n",
      "<class 'numpy.str_'>\n",
      "<class 'numpy.timedelta64'>\n",
      "<class 'numpy.uint16'>\n",
      "<class 'numpy.uint32'>\n",
      "<class 'numpy.uint64'>\n",
      "<class 'numpy.uint8'>\n",
      "<class 'numpy.uintc'>\n",
      "<class 'numpy.void'>\n"
     ]
    }
   ],
   "source": [
    "print(*sorted(map(str, set(np.sctypeDict.values()))), sep='\\n')"
   ]
  },
  {
   "cell_type": "code",
   "execution_count": 23,
   "metadata": {},
   "outputs": [
    {
     "data": {
      "text/plain": [
       "iinfo(min=0, max=255, dtype=uint8)"
      ]
     },
     "execution_count": 23,
     "metadata": {},
     "output_type": "execute_result"
    }
   ],
   "source": [
    "a = -456\n",
    "a = np.uint8(-456)\n",
    "np.iinfo(a)"
   ]
  },
  {
   "cell_type": "code",
   "execution_count": 16,
   "metadata": {},
   "outputs": [],
   "source": [
    "arr = np.array([126,15,102,109,10], dtype=np.uint8)"
   ]
  },
  {
   "cell_type": "code",
   "execution_count": 30,
   "metadata": {},
   "outputs": [],
   "source": [
    "arr = np.array([1,5,2,9,10], dtype=np.int8)\n",
    "nd_arr = np.array([\n",
    "               [12, 45, 78],\n",
    "               [34, 56, 13],\n",
    "               [12, 98, 76]\n",
    "               ], dtype=np.int16)"
   ]
  },
  {
   "cell_type": "code",
   "execution_count": 31,
   "metadata": {},
   "outputs": [
    {
     "name": "stdout",
     "output_type": "stream",
     "text": [
      "1\n",
      "(3, 3)\n"
     ]
    }
   ],
   "source": [
    "print(arr.itemsize)\n",
    "print(nd_arr.shape)\n",
    "\n"
   ]
  },
  {
   "cell_type": "code",
   "execution_count": 34,
   "metadata": {},
   "outputs": [
    {
     "data": {
      "text/plain": [
       "dtype('float64')"
      ]
     },
     "execution_count": 34,
     "metadata": {},
     "output_type": "execute_result"
    }
   ],
   "source": [
    "zeros_1d = np.zeros(5)\n",
    "zeros_1d[1] = 100\n",
    "zeros_1d\n",
    "zeros_1d.dtype\n",
    "\n"
   ]
  },
  {
   "cell_type": "code",
   "execution_count": 36,
   "metadata": {},
   "outputs": [
    {
     "name": "stdout",
     "output_type": "stream",
     "text": [
      "(5, 4, 3)\n"
     ]
    },
    {
     "data": {
      "text/plain": [
       "array([[[0., 0., 0.],\n",
       "        [0., 0., 0.],\n",
       "        [0., 0., 0.],\n",
       "        [0., 0., 0.]],\n",
       "\n",
       "       [[0., 0., 0.],\n",
       "        [0., 0., 0.],\n",
       "        [0., 0., 0.],\n",
       "        [0., 0., 0.]],\n",
       "\n",
       "       [[0., 0., 0.],\n",
       "        [0., 0., 0.],\n",
       "        [0., 0., 0.],\n",
       "        [0., 0., 0.]],\n",
       "\n",
       "       [[0., 0., 0.],\n",
       "        [0., 0., 0.],\n",
       "        [0., 0., 0.],\n",
       "        [0., 0., 0.]],\n",
       "\n",
       "       [[0., 0., 0.],\n",
       "        [0., 0., 0.],\n",
       "        [0., 0., 0.],\n",
       "        [0., 0., 0.]]], dtype=float32)"
      ]
     },
     "execution_count": 36,
     "metadata": {},
     "output_type": "execute_result"
    }
   ],
   "source": [
    "zeros_3d = np.zeros((5,4,3), dtype=np.float32)\n",
    "print(zeros_3d.shape)\n",
    "zeros_3d"
   ]
  },
  {
   "cell_type": "code",
   "execution_count": 42,
   "metadata": {},
   "outputs": [
    {
     "data": {
      "text/plain": [
       "array([2.5  , 2.7  , 2.898, 3.098, 3.297, 3.496, 3.695, 3.895, 4.094,\n",
       "       4.293, 4.492, 4.69 , 4.89 ], dtype=float16)"
      ]
     },
     "execution_count": 42,
     "metadata": {},
     "output_type": "execute_result"
    }
   ],
   "source": [
    "np.arange(2.5, 5, 0.5, dtype=np.float16)"
   ]
  },
  {
   "cell_type": "code",
   "execution_count": 44,
   "metadata": {},
   "outputs": [
    {
     "data": {
      "text/plain": [
       "(array([-6.  , -5.55, -5.1 , -4.65, -4.2 , -3.75, -3.3 , -2.85, -2.4 ,\n",
       "        -1.95, -1.5 , -1.05, -0.6 , -0.15,  0.3 ,  0.75,  1.2 ,  1.65,\n",
       "         2.1 ,  2.55,  3.  ,  3.45,  3.9 ,  4.35,  4.8 ,  5.25,  5.7 ,\n",
       "         6.15,  6.6 ,  7.05,  7.5 ,  7.95,  8.4 ,  8.85,  9.3 ,  9.75,\n",
       "        10.2 , 10.65, 11.1 , 11.55, 12.  , 12.45, 12.9 , 13.35, 13.8 ,\n",
       "        14.25, 14.7 , 15.15, 15.6 , 16.05, 16.5 , 16.95, 17.4 , 17.85,\n",
       "        18.3 , 18.75, 19.2 , 19.65, 20.1 , 20.55]),\n",
       " 0.45)"
      ]
     },
     "execution_count": 44,
     "metadata": {},
     "output_type": "execute_result"
    }
   ],
   "source": [
    "arr1 = np.linspace(-6, 21, 60, endpoint=False, retstep=True)\n",
    "arr1"
   ]
  },
  {
   "cell_type": "code",
   "execution_count": 61,
   "metadata": {},
   "outputs": [
    {
     "name": "stdout",
     "output_type": "stream",
     "text": [
      "9.899494936611665\n"
     ]
    }
   ],
   "source": [
    "vec1 = np.array([3, 5, 8])\n",
    "lenght = np.sqrt(np.sum(vec1**2))\n",
    "print(lenght)"
   ]
  },
  {
   "cell_type": "code",
   "execution_count": 63,
   "metadata": {},
   "outputs": [
    {
     "data": {
      "text/plain": [
       "9.899494936611665"
      ]
     },
     "execution_count": 63,
     "metadata": {},
     "output_type": "execute_result"
    }
   ],
   "source": [
    "lenght1 = np.linalg.norm(vec1)\n",
    "lenght1"
   ]
  },
  {
   "cell_type": "code",
   "execution_count": 64,
   "metadata": {},
   "outputs": [],
   "source": [
    "vec2 = np.array([10, 87, 0])"
   ]
  },
  {
   "cell_type": "code",
   "execution_count": 67,
   "metadata": {},
   "outputs": [
    {
     "data": {
      "text/plain": [
       "82.68615361715648"
      ]
     },
     "execution_count": 67,
     "metadata": {},
     "output_type": "execute_result"
    }
   ],
   "source": [
    "distance = np.sqrt(np.sum((vec1 - vec2) ** 2))\n",
    "distance"
   ]
  },
  {
   "cell_type": "code",
   "execution_count": 68,
   "metadata": {},
   "outputs": [
    {
     "data": {
      "text/plain": [
       "82.68615361715648"
      ]
     },
     "execution_count": 68,
     "metadata": {},
     "output_type": "execute_result"
    }
   ],
   "source": [
    "distance1 = np.linalg.norm(vec1 - vec2)\n",
    "distance1"
   ]
  },
  {
   "cell_type": "code",
   "execution_count": 70,
   "metadata": {},
   "outputs": [],
   "source": [
    "vec3 = np.arange(1, 6)\n",
    "vec4 = np.linspace(1, 20, 5)"
   ]
  },
  {
   "cell_type": "code",
   "execution_count": 71,
   "metadata": {},
   "outputs": [
    {
     "data": {
      "text/plain": [
       "205.0"
      ]
     },
     "execution_count": 71,
     "metadata": {},
     "output_type": "execute_result"
    }
   ],
   "source": [
    "scalar1 = np.sum(vec3 * vec4)\n",
    "scalar1"
   ]
  },
  {
   "cell_type": "code",
   "execution_count": 72,
   "metadata": {},
   "outputs": [
    {
     "data": {
      "text/plain": [
       "205.0"
      ]
     },
     "execution_count": 72,
     "metadata": {},
     "output_type": "execute_result"
    }
   ],
   "source": [
    "scalar2 = np.dot(vec3, vec4)\n",
    "scalar2"
   ]
  },
  {
   "cell_type": "code",
   "execution_count": 73,
   "metadata": {},
   "outputs": [
    {
     "data": {
      "text/plain": [
       "0"
      ]
     },
     "execution_count": 73,
     "metadata": {},
     "output_type": "execute_result"
    }
   ],
   "source": [
    "x = np.array([25, 0])\n",
    "y = np.array([0, 10])\n",
    "np.dot(x, y)"
   ]
  },
  {
   "cell_type": "code",
   "execution_count": 104,
   "metadata": {},
   "outputs": [
    {
     "ename": "TypeError",
     "evalue": "type numpy.ndarray doesn't define __round__ method",
     "output_type": "error",
     "traceback": [
      "\u001b[1;31m---------------------------------------------------------------------------\u001b[0m",
      "\u001b[1;31mTypeError\u001b[0m                                 Traceback (most recent call last)",
      "\u001b[1;32md:\\Data science\\IDE\\.vscode\\check.ipynb Ячейка 27\u001b[0m in \u001b[0;36m<cell line: 1>\u001b[1;34m()\u001b[0m\n\u001b[1;32m----> <a href='vscode-notebook-cell:/d%3A/Data%20science/IDE/.vscode/check.ipynb#X45sZmlsZQ%3D%3D?line=0'>1</a>\u001b[0m \u001b[39mround\u001b[39;49m(np\u001b[39m.\u001b[39;49marange(\u001b[39m2.5\u001b[39;49m, \u001b[39m5\u001b[39;49m, \u001b[39m0.2\u001b[39;49m, dtype\u001b[39m=\u001b[39;49mnp\u001b[39m.\u001b[39;49mfloat16), \u001b[39m2\u001b[39;49m)\n",
      "\u001b[1;31mTypeError\u001b[0m: type numpy.ndarray doesn't define __round__ method"
     ]
    }
   ],
   "source": [
    "round(np.arange(2.5, 5, 0.2, dtype=np.float16), 2)"
   ]
  },
  {
   "cell_type": "code",
   "execution_count": 93,
   "metadata": {},
   "outputs": [
    {
     "data": {
      "text/plain": [
       "array([[2, 3, 0, 7],\n",
       "       [1, 1, 1, 4],\n",
       "       [4, 3, 2, 3]])"
      ]
     },
     "execution_count": 93,
     "metadata": {},
     "output_type": "execute_result"
    }
   ],
   "source": [
    "np.random.seed(24)\n",
    "np.random.randint(10, size=(3,4))"
   ]
  },
  {
   "cell_type": "code",
   "execution_count": 99,
   "metadata": {},
   "outputs": [
    {
     "name": "stdout",
     "output_type": "stream",
     "text": [
      "[8 8 3]\n",
      "[7 7 0]\n",
      "[4 2 5]\n"
     ]
    }
   ],
   "source": [
    "np.random.seed(100)\n",
    "print(np.random.randint(10, size=3))\n",
    "# [8 8 3]\n",
    "print(np.random.randint(10, size=3))\n",
    "# [7 7 0]\n",
    "print(np.random.randint(10, size=3))"
   ]
  },
  {
   "cell_type": "code",
   "execution_count": 102,
   "metadata": {},
   "outputs": [
    {
     "data": {
      "text/plain": [
       "array([11.36467832,  9.85021616, 10.43444397,  2.08725787,  6.61134817,\n",
       "       16.25276471,  3.89981358,  3.18481809])"
      ]
     },
     "execution_count": 102,
     "metadata": {},
     "output_type": "execute_result"
    }
   ],
   "source": [
    "np.random.uniform(2, 17, size = 8)"
   ]
  },
  {
   "cell_type": "code",
   "execution_count": 106,
   "metadata": {},
   "outputs": [
    {
     "data": {
      "text/plain": [
       "iinfo(min=-32768, max=32767, dtype=int16)"
      ]
     },
     "execution_count": 106,
     "metadata": {},
     "output_type": "execute_result"
    }
   ],
   "source": [
    "np.iinfo(np.int16)"
   ]
  },
  {
   "cell_type": "code",
   "execution_count": 6,
   "metadata": {},
   "outputs": [
    {
     "data": {
      "text/plain": [
       "array([[86, 36],\n",
       "       [68, 60],\n",
       "       [85, 85]])"
      ]
     },
     "execution_count": 6,
     "metadata": {},
     "output_type": "execute_result"
    }
   ],
   "source": [
    "table = np.random.randint(1, 101, size=(3,2))\n",
    "table"
   ]
  },
  {
   "cell_type": "markdown",
   "metadata": {},
   "source": [
    "# 10.6\n"
   ]
  },
  {
   "cell_type": "code",
   "execution_count": null,
   "metadata": {},
   "outputs": [],
   "source": [
    "import numpy as np\n",
    "def get_chess(a):\n",
    "    arr = np.zero((a,a))\n",
    "    arr[1::2, ::2] = 1\n",
    "    arr[::2, 1::2] = 1\n",
    "    return arr\n",
    "print(get_chess(5))\n"
   ]
  },
  {
   "cell_type": "markdown",
   "metadata": {},
   "source": [
    "# 10.7"
   ]
  },
  {
   "cell_type": "code",
   "execution_count": 123,
   "metadata": {},
   "outputs": [
    {
     "data": {
      "text/plain": [
       "(array([ 6, 17,  9, 20,  7,  1]), 3543566986)"
      ]
     },
     "execution_count": 123,
     "metadata": {},
     "output_type": "execute_result"
    }
   ],
   "source": [
    "import numpy as np\n",
    "def shuffle_seed(array):\n",
    "    seed = np.random.randint(2**32)\n",
    "    np.random.seed(seed)\n",
    "    shuffled = np.random.permutation(array)\n",
    "    return shuffled, seed\n",
    "a= np.array([1, 6, 7, 9, 20, 17])\n",
    "shuffle_seed(a)\n",
    "    "
   ]
  },
  {
   "cell_type": "markdown",
   "metadata": {},
   "source": [
    "# 10.8"
   ]
  },
  {
   "cell_type": "code",
   "execution_count": 125,
   "metadata": {},
   "outputs": [],
   "source": [
    "import numpy as np\n",
    "def min_max_dist(*vectors):\n",
    "    dist =list()\n",
    "    for i in range(len(vectors)):\n",
    "        for j in range(i+1, len(vectors)):\n",
    "            dist.append(np.linalg.norm(vectors[i]- vectors[j]))\n",
    "    return (min(dist)), (max(dist))"
   ]
  },
  {
   "cell_type": "code",
   "execution_count": 126,
   "metadata": {},
   "outputs": [
    {
     "data": {
      "text/plain": [
       "(5.196152422706632, 10.392304845413264)"
      ]
     },
     "execution_count": 126,
     "metadata": {},
     "output_type": "execute_result"
    }
   ],
   "source": [
    "vec1 = np.array([1,2,3])\n",
    "vec2 = np.array([4,5,6])\n",
    "vec3 = np.array([7, 8, 9])\n",
    " \n",
    "min_max_dist(vec1, vec2, vec3)"
   ]
  },
  {
   "cell_type": "markdown",
   "metadata": {},
   "source": [
    "# 10.9"
   ]
  },
  {
   "cell_type": "code",
   "execution_count": 132,
   "metadata": {},
   "outputs": [],
   "source": [
    "import numpy as np\n",
    "def any_normal(*vectors):\n",
    "    for i in range(len(vectors)):\n",
    "        for j in range(i+1, len(vectors)):\n",
    "            if np.dot(vectors[i], vectors[j]) == 0:\n",
    "                return True\n",
    "    return False"
   ]
  },
  {
   "cell_type": "code",
   "execution_count": 134,
   "metadata": {},
   "outputs": [
    {
     "name": "stdout",
     "output_type": "stream",
     "text": [
      "True\n"
     ]
    }
   ],
   "source": [
    "vec1 = np.array([2, 1])\n",
    "vec2 = np.array([-1, 2])\n",
    "vec3 = np.array([3,4])\n",
    "print(any_normal(vec1, vec2, vec3))"
   ]
  },
  {
   "cell_type": "markdown",
   "metadata": {},
   "source": [
    "# 10.10"
   ]
  },
  {
   "cell_type": "code",
   "execution_count": 145,
   "metadata": {},
   "outputs": [],
   "source": [
    "import numpy as np\n",
    "def get_loto(num):\n",
    "    arr = np.random.randint(1,101, size= (num, 5, 5))\n",
    "    return arr\n",
    "    "
   ]
  },
  {
   "cell_type": "code",
   "execution_count": 146,
   "metadata": {},
   "outputs": [
    {
     "data": {
      "text/plain": [
       "array([[[24, 45, 67, 85, 34],\n",
       "        [49, 76, 19, 46,  4],\n",
       "        [77, 89, 90, 40, 42],\n",
       "        [68, 39, 12, 31, 56],\n",
       "        [85, 22, 28, 64, 52]],\n",
       "\n",
       "       [[45, 91, 10, 32,  1],\n",
       "        [76, 82, 90,  8, 99],\n",
       "        [61, 42, 10, 39, 58],\n",
       "        [15, 72, 40,  8, 69],\n",
       "        [86, 33, 38, 13, 89]],\n",
       "\n",
       "       [[96, 53, 60,  2, 13],\n",
       "        [89, 65, 83, 79, 19],\n",
       "        [77, 52, 28, 30, 88],\n",
       "        [85, 34, 94, 42,  6],\n",
       "        [13, 69, 97, 88, 96]]])"
      ]
     },
     "execution_count": 146,
     "metadata": {},
     "output_type": "execute_result"
    }
   ],
   "source": [
    "get_loto(3)"
   ]
  },
  {
   "cell_type": "markdown",
   "metadata": {},
   "source": [
    "# 10.11\n"
   ]
  },
  {
   "cell_type": "code",
   "execution_count": 164,
   "metadata": {},
   "outputs": [
    {
     "data": {
      "text/plain": [
       "array([[[ 40,  44,  64,  45,  39],\n",
       "        [  8,  30,  26,  67,  91],\n",
       "        [ 12,  21,  99,  92,  31],\n",
       "        [  9,  89,  75,  88,  58],\n",
       "        [ 22,  62,  41, 100,  24]],\n",
       "\n",
       "       [[ 39,  28,  34,  10,  60],\n",
       "        [ 92,   9,  12, 100,  76],\n",
       "        [ 35,  70,   1,   2,  54],\n",
       "        [ 63,  31,  95,   8,  84],\n",
       "        [ 97,  23,  25,  40,  93]],\n",
       "\n",
       "       [[ 42,  43,  98,   3,  86],\n",
       "        [ 25,  39,  78,  69,  61],\n",
       "        [ 77,  96,  40,  37,  30],\n",
       "        [ 62,  52,  45,  38,  28],\n",
       "        [ 90,  47,  93,  68,  59]],\n",
       "\n",
       "       [[  9,  18,  68,  98,  74],\n",
       "        [ 11,  97,  91,  23,  95],\n",
       "        [ 36, 100,  82,  88,  46],\n",
       "        [ 99,  77,  85,  16,  32],\n",
       "        [ 61,  66,  10,  64,  92]],\n",
       "\n",
       "       [[ 36,  91,  74,  59,  26],\n",
       "        [ 96,  31,  35,  51,   8],\n",
       "        [ 93,  99,   1,   2,  69],\n",
       "        [ 27,  77,  67,  22,  41],\n",
       "        [ 71,   7,  76,  49,  28]],\n",
       "\n",
       "       [[  6,  43,  49,  66,  53],\n",
       "        [  8,  97,  51,  16,  47],\n",
       "        [  5,  89,  48,  36,  38],\n",
       "        [ 88,  86,  58,  65,  46],\n",
       "        [ 24,  84,  40,  31,  50]],\n",
       "\n",
       "       [[ 27,  49,  43,  35,  71],\n",
       "        [ 44,  47,  24,  73,  21],\n",
       "        [ 62,  51,  29,  65,  93],\n",
       "        [ 17,  79,  36,  19,  20],\n",
       "        [ 12,  33,  11,  75,  70]],\n",
       "\n",
       "       [[ 50,  32,   8,  10,   1],\n",
       "        [  4,  64,  36,  74,  63],\n",
       "        [ 93,  57,  31,  38,  22],\n",
       "        [ 23,  42,  67,   2,  97],\n",
       "        [ 33,  18,  62,  78,  55]],\n",
       "\n",
       "       [[  9,  90,  58,  70,  76],\n",
       "        [ 50,  68,  16,  85,  41],\n",
       "        [ 54,  92,  11,   8,  44],\n",
       "        [  2,  45,  60,  82,  36],\n",
       "        [ 24,  48,  40,  67,  42]],\n",
       "\n",
       "       [[ 37,  45,  78,   9,  27],\n",
       "        [ 21,  73,  76,  34,  77],\n",
       "        [ 88,  40,  26,  51,  54],\n",
       "        [ 65,  25,  47,  75,  19],\n",
       "        [ 85,  44,   7,  90,  66]]])"
      ]
     },
     "execution_count": 164,
     "metadata": {},
     "output_type": "execute_result"
    }
   ],
   "source": [
    "import numpy as np\n",
    "def get_unique_loto(num):\n",
    "    ary = np.arange(1,101)\n",
    "    res= list()\n",
    "    for i in range(num):\n",
    "        res.append(np.random.choice(ary, size= (5, 5), replace=False))\n",
    "    res = np.array(res)\n",
    "    return res\n",
    "get_unique_loto(10)"
   ]
  },
  {
   "cell_type": "code",
   "execution_count": 170,
   "metadata": {},
   "outputs": [
    {
     "data": {
      "text/plain": [
       "261.5"
      ]
     },
     "execution_count": 170,
     "metadata": {},
     "output_type": "execute_result"
    }
   ],
   "source": [
    "simplelist = [19, 242, 14, 152, 142, 1000]\n",
    "a= np.array(simplelist)\n",
    "b = np.mean(a)\n",
    "b"
   ]
  }
 ],
 "metadata": {
  "kernelspec": {
   "display_name": "Python 3.10.5 64-bit (system)",
   "language": "python",
   "name": "python3"
  },
  "language_info": {
   "codemirror_mode": {
    "name": "ipython",
    "version": 3
   },
   "file_extension": ".py",
   "mimetype": "text/x-python",
   "name": "python",
   "nbconvert_exporter": "python",
   "pygments_lexer": "ipython3",
   "version": "3.10.5"
  },
  "orig_nbformat": 4,
  "vscode": {
   "interpreter": {
    "hash": "a57ba75b2680453b5f4b3fd3d28cd1e581bab5d5faf9a77c8bad51c2183cfaa5"
   }
  }
 },
 "nbformat": 4,
 "nbformat_minor": 2
}
