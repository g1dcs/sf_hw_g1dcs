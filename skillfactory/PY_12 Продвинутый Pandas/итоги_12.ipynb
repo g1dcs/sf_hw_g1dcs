{
 "cells": [
  {
   "cell_type": "markdown",
   "metadata": {},
   "source": [
    "# Итоги модуля 12"
   ]
  },
  {
   "cell_type": "code",
   "execution_count": 1,
   "metadata": {},
   "outputs": [],
   "source": [
    "import pandas as pd\n",
    "import re\n"
   ]
  },
  {
   "cell_type": "code",
   "execution_count": 3,
   "metadata": {},
   "outputs": [
    {
     "data": {
      "text/html": [
       "<div>\n",
       "<style scoped>\n",
       "    .dataframe tbody tr th:only-of-type {\n",
       "        vertical-align: middle;\n",
       "    }\n",
       "\n",
       "    .dataframe tbody tr th {\n",
       "        vertical-align: top;\n",
       "    }\n",
       "\n",
       "    .dataframe thead th {\n",
       "        text-align: right;\n",
       "    }\n",
       "</style>\n",
       "<table border=\"1\" class=\"dataframe\">\n",
       "  <thead>\n",
       "    <tr style=\"text-align: right;\">\n",
       "      <th></th>\n",
       "      <th>Unnamed: 0</th>\n",
       "      <th>userId</th>\n",
       "      <th>movieId</th>\n",
       "      <th>rating</th>\n",
       "      <th>date</th>\n",
       "      <th>title</th>\n",
       "      <th>genres</th>\n",
       "    </tr>\n",
       "  </thead>\n",
       "  <tbody>\n",
       "    <tr>\n",
       "      <th>0</th>\n",
       "      <td>0</td>\n",
       "      <td>1</td>\n",
       "      <td>1</td>\n",
       "      <td>4.0</td>\n",
       "      <td>2000-07-30 18:45:03</td>\n",
       "      <td>Toy Story (1995)</td>\n",
       "      <td>Adventure|Animation|Children|Comedy|Fantasy</td>\n",
       "    </tr>\n",
       "    <tr>\n",
       "      <th>1</th>\n",
       "      <td>1</td>\n",
       "      <td>1</td>\n",
       "      <td>3</td>\n",
       "      <td>4.0</td>\n",
       "      <td>2000-07-30 18:20:47</td>\n",
       "      <td>Grumpier Old Men (1995)</td>\n",
       "      <td>Comedy|Romance</td>\n",
       "    </tr>\n",
       "    <tr>\n",
       "      <th>2</th>\n",
       "      <td>2</td>\n",
       "      <td>1</td>\n",
       "      <td>6</td>\n",
       "      <td>4.0</td>\n",
       "      <td>2000-07-30 18:37:04</td>\n",
       "      <td>Heat (1995)</td>\n",
       "      <td>Action|Crime|Thriller</td>\n",
       "    </tr>\n",
       "    <tr>\n",
       "      <th>3</th>\n",
       "      <td>3</td>\n",
       "      <td>1</td>\n",
       "      <td>47</td>\n",
       "      <td>5.0</td>\n",
       "      <td>2000-07-30 19:03:35</td>\n",
       "      <td>Seven (a.k.a. Se7en) (1995)</td>\n",
       "      <td>Mystery|Thriller</td>\n",
       "    </tr>\n",
       "    <tr>\n",
       "      <th>4</th>\n",
       "      <td>4</td>\n",
       "      <td>1</td>\n",
       "      <td>50</td>\n",
       "      <td>5.0</td>\n",
       "      <td>2000-07-30 18:48:51</td>\n",
       "      <td>Usual Suspects, The (1995)</td>\n",
       "      <td>Crime|Mystery|Thriller</td>\n",
       "    </tr>\n",
       "  </tbody>\n",
       "</table>\n",
       "</div>"
      ],
      "text/plain": [
       "   Unnamed: 0  userId  movieId  rating                 date  \\\n",
       "0           0       1        1     4.0  2000-07-30 18:45:03   \n",
       "1           1       1        3     4.0  2000-07-30 18:20:47   \n",
       "2           2       1        6     4.0  2000-07-30 18:37:04   \n",
       "3           3       1       47     5.0  2000-07-30 19:03:35   \n",
       "4           4       1       50     5.0  2000-07-30 18:48:51   \n",
       "\n",
       "                         title                                       genres  \n",
       "0             Toy Story (1995)  Adventure|Animation|Children|Comedy|Fantasy  \n",
       "1      Grumpier Old Men (1995)                               Comedy|Romance  \n",
       "2                  Heat (1995)                        Action|Crime|Thriller  \n",
       "3  Seven (a.k.a. Se7en) (1995)                             Mystery|Thriller  \n",
       "4   Usual Suspects, The (1995)                       Crime|Mystery|Thriller  "
      ]
     },
     "metadata": {},
     "output_type": "display_data"
    }
   ],
   "source": [
    "data = pd.read_csv('data/ratings_movies.csv')\n",
    "display(data.head(5))"
   ]
  },
  {
   "cell_type": "code",
   "execution_count": 4,
   "metadata": {},
   "outputs": [],
   "source": [
    "def get_year_release(arg):\n",
    "    #находим все слова по шаблону \"(DDDD)\"\n",
    "    candidates = re.findall(r'\\(\\d{4}\\)', arg) \n",
    "    # проверяем число вхождений\n",
    "    if len(candidates) > 0:\n",
    "        #если число вхождений больше 0,\n",
    "\t#очищаем строку от знаков \"(\" и \")\"\n",
    "        year = candidates[0].replace('(', '')\n",
    "        year = year.replace(')', '')\n",
    "        return int(year)\n",
    "    else:\n",
    "        #если год не указан, возвращаем None\n",
    "        return None"
   ]
  },
  {
   "cell_type": "code",
   "execution_count": 15,
   "metadata": {},
   "outputs": [
    {
     "name": "stdout",
     "output_type": "stream",
     "text": [
      "<class 'pandas.core.frame.DataFrame'>\n",
      "RangeIndex: 100836 entries, 0 to 100835\n",
      "Data columns (total 8 columns):\n",
      " #   Column        Non-Null Count   Dtype  \n",
      "---  ------        --------------   -----  \n",
      " 0   Unnamed: 0    100836 non-null  int64  \n",
      " 1   userId        100836 non-null  int64  \n",
      " 2   movieId       100836 non-null  int64  \n",
      " 3   rating        100836 non-null  float64\n",
      " 4   date          100836 non-null  object \n",
      " 5   title         100836 non-null  object \n",
      " 6   genres        100836 non-null  object \n",
      " 7   year_realese  100818 non-null  float64\n",
      "dtypes: float64(2), int64(3), object(3)\n",
      "memory usage: 6.2+ MB\n"
     ]
    }
   ],
   "source": [
    "data['year_realese'] = data['title'].apply(get_year_release)\n",
    "data.info()"
   ]
  },
  {
   "cell_type": "code",
   "execution_count": 19,
   "metadata": {},
   "outputs": [
    {
     "data": {
      "text/plain": [
       "title\n",
       "Bloodsport: The Dark Kumite (1999)            0.5\n",
       "Simon Sez (1999)                              1.0\n",
       "Chill Factor (1999)                           1.0\n",
       "Source, The (1999)                            1.0\n",
       "Trippin' (1999)                               1.0\n",
       "                                             ... \n",
       "Trailer Park Boys (1999)                      5.0\n",
       "Larry David: Curb Your Enthusiasm (1999)      5.0\n",
       "Sun Alley (Sonnenallee) (1999)                5.0\n",
       "George Carlin: You Are All Diseased (1999)    5.0\n",
       "Five Senses, The (1999)                       5.0\n",
       "Name: rating, Length: 261, dtype: float64"
      ]
     },
     "execution_count": 19,
     "metadata": {},
     "output_type": "execute_result"
    }
   ],
   "source": [
    "mask= data['year_realese'] == 1999 \n",
    "data[mask].groupby('title')['rating'].mean().sort_values() "
   ]
  },
  {
   "cell_type": "code",
   "execution_count": 20,
   "metadata": {},
   "outputs": [
    {
     "data": {
      "text/plain": [
       "genres\n",
       "Action|Sci-Fi                        1.000000\n",
       "Action|Adventure|Horror              1.500000\n",
       "Action|Drama|Fantasy                 1.500000\n",
       "Crime|Romance                        1.500000\n",
       "Adventure|Comedy|Fantasy             1.833333\n",
       "                                       ...   \n",
       "Crime                                4.750000\n",
       "Comedy|Musical                       5.000000\n",
       "Animation|Drama|Fantasy|Mystery      5.000000\n",
       "Adventure|Children|Comedy|Mystery    5.000000\n",
       "Animation|Children|Mystery           5.000000\n",
       "Name: rating, Length: 119, dtype: float64"
      ]
     },
     "execution_count": 20,
     "metadata": {},
     "output_type": "execute_result"
    }
   ],
   "source": [
    "mask1= data['year_realese'] == 2010\n",
    "data[mask1].groupby('genres')['rating'].mean().sort_values() "
   ]
  },
  {
   "cell_type": "code",
   "execution_count": 21,
   "metadata": {},
   "outputs": [
    {
     "data": {
      "text/plain": [
       "userId\n",
       "599    524\n",
       "414    482\n",
       "448    403\n",
       "380    399\n",
       "474    395\n",
       "      ... \n",
       "578     15\n",
       "12      15\n",
       "85      13\n",
       "214     13\n",
       "245     13\n",
       "Name: genres, Length: 610, dtype: int64"
      ]
     },
     "execution_count": 21,
     "metadata": {},
     "output_type": "execute_result"
    }
   ],
   "source": [
    "data.groupby('userId')['genres'].nunique().sort_values(ascending=False)"
   ]
  }
 ],
 "metadata": {
  "kernelspec": {
   "display_name": "Python 3.10.5 64-bit (system)",
   "language": "python",
   "name": "python3"
  },
  "language_info": {
   "codemirror_mode": {
    "name": "ipython",
    "version": 3
   },
   "file_extension": ".py",
   "mimetype": "text/x-python",
   "name": "python",
   "nbconvert_exporter": "python",
   "pygments_lexer": "ipython3",
   "version": "3.10.5"
  },
  "orig_nbformat": 4,
  "vscode": {
   "interpreter": {
    "hash": "a57ba75b2680453b5f4b3fd3d28cd1e581bab5d5faf9a77c8bad51c2183cfaa5"
   }
  }
 },
 "nbformat": 4,
 "nbformat_minor": 2
}
