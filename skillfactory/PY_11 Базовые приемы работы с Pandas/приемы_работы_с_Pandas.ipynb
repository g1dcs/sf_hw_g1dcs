{
 "cells": [
  {
   "cell_type": "code",
   "execution_count": 314,
   "metadata": {},
   "outputs": [],
   "source": [
    "import pandas as pd\n",
    "import numpy as np"
   ]
  },
  {
   "cell_type": "markdown",
   "metadata": {},
   "source": [
    "# 11.1 Базовые приемы работы с Pandas"
   ]
  },
  {
   "cell_type": "code",
   "execution_count": 315,
   "metadata": {},
   "outputs": [
    {
     "data": {
      "text/html": [
       "<div>\n",
       "<style scoped>\n",
       "    .dataframe tbody tr th:only-of-type {\n",
       "        vertical-align: middle;\n",
       "    }\n",
       "\n",
       "    .dataframe tbody tr th {\n",
       "        vertical-align: top;\n",
       "    }\n",
       "\n",
       "    .dataframe thead th {\n",
       "        text-align: right;\n",
       "    }\n",
       "</style>\n",
       "<table border=\"1\" class=\"dataframe\">\n",
       "  <thead>\n",
       "    <tr style=\"text-align: right;\">\n",
       "      <th></th>\n",
       "      <th>index</th>\n",
       "      <th>Suburb</th>\n",
       "      <th>Address</th>\n",
       "      <th>Rooms</th>\n",
       "      <th>Type</th>\n",
       "      <th>Price</th>\n",
       "      <th>Method</th>\n",
       "      <th>SellerG</th>\n",
       "      <th>Date</th>\n",
       "      <th>Distance</th>\n",
       "      <th>...</th>\n",
       "      <th>Car</th>\n",
       "      <th>Landsize</th>\n",
       "      <th>BuildingArea</th>\n",
       "      <th>YearBuilt</th>\n",
       "      <th>CouncilArea</th>\n",
       "      <th>Lattitude</th>\n",
       "      <th>Longtitude</th>\n",
       "      <th>Regionname</th>\n",
       "      <th>Propertycount</th>\n",
       "      <th>Coordinates</th>\n",
       "    </tr>\n",
       "  </thead>\n",
       "  <tbody>\n",
       "    <tr>\n",
       "      <th>0</th>\n",
       "      <td>0</td>\n",
       "      <td>Abbotsford</td>\n",
       "      <td>85 Turner St</td>\n",
       "      <td>2</td>\n",
       "      <td>h</td>\n",
       "      <td>1480000.0</td>\n",
       "      <td>S</td>\n",
       "      <td>Biggin</td>\n",
       "      <td>3/12/2016</td>\n",
       "      <td>2.5</td>\n",
       "      <td>...</td>\n",
       "      <td>1</td>\n",
       "      <td>202.0</td>\n",
       "      <td>126.0</td>\n",
       "      <td>1970</td>\n",
       "      <td>Yarra</td>\n",
       "      <td>-37.7996</td>\n",
       "      <td>144.9984</td>\n",
       "      <td>Northern Metropolitan</td>\n",
       "      <td>4019</td>\n",
       "      <td>-37.7996, 144.9984</td>\n",
       "    </tr>\n",
       "    <tr>\n",
       "      <th>1</th>\n",
       "      <td>1</td>\n",
       "      <td>Abbotsford</td>\n",
       "      <td>25 Bloomburg St</td>\n",
       "      <td>2</td>\n",
       "      <td>h</td>\n",
       "      <td>1035000.0</td>\n",
       "      <td>S</td>\n",
       "      <td>Biggin</td>\n",
       "      <td>4/02/2016</td>\n",
       "      <td>2.5</td>\n",
       "      <td>...</td>\n",
       "      <td>0</td>\n",
       "      <td>156.0</td>\n",
       "      <td>79.0</td>\n",
       "      <td>1900</td>\n",
       "      <td>Yarra</td>\n",
       "      <td>-37.8079</td>\n",
       "      <td>144.9934</td>\n",
       "      <td>Northern Metropolitan</td>\n",
       "      <td>4019</td>\n",
       "      <td>-37.8079, 144.9934</td>\n",
       "    </tr>\n",
       "    <tr>\n",
       "      <th>2</th>\n",
       "      <td>2</td>\n",
       "      <td>Abbotsford</td>\n",
       "      <td>5 Charles St</td>\n",
       "      <td>3</td>\n",
       "      <td>h</td>\n",
       "      <td>1465000.0</td>\n",
       "      <td>SP</td>\n",
       "      <td>Biggin</td>\n",
       "      <td>4/03/2017</td>\n",
       "      <td>2.5</td>\n",
       "      <td>...</td>\n",
       "      <td>0</td>\n",
       "      <td>134.0</td>\n",
       "      <td>150.0</td>\n",
       "      <td>1900</td>\n",
       "      <td>Yarra</td>\n",
       "      <td>-37.8093</td>\n",
       "      <td>144.9944</td>\n",
       "      <td>Northern Metropolitan</td>\n",
       "      <td>4019</td>\n",
       "      <td>-37.8093, 144.9944</td>\n",
       "    </tr>\n",
       "    <tr>\n",
       "      <th>3</th>\n",
       "      <td>3</td>\n",
       "      <td>Abbotsford</td>\n",
       "      <td>40 Federation La</td>\n",
       "      <td>3</td>\n",
       "      <td>h</td>\n",
       "      <td>850000.0</td>\n",
       "      <td>PI</td>\n",
       "      <td>Biggin</td>\n",
       "      <td>4/03/2017</td>\n",
       "      <td>2.5</td>\n",
       "      <td>...</td>\n",
       "      <td>1</td>\n",
       "      <td>94.0</td>\n",
       "      <td>126.0</td>\n",
       "      <td>1970</td>\n",
       "      <td>Yarra</td>\n",
       "      <td>-37.7969</td>\n",
       "      <td>144.9969</td>\n",
       "      <td>Northern Metropolitan</td>\n",
       "      <td>4019</td>\n",
       "      <td>-37.7969, 144.9969</td>\n",
       "    </tr>\n",
       "    <tr>\n",
       "      <th>4</th>\n",
       "      <td>4</td>\n",
       "      <td>Abbotsford</td>\n",
       "      <td>55a Park St</td>\n",
       "      <td>4</td>\n",
       "      <td>h</td>\n",
       "      <td>1600000.0</td>\n",
       "      <td>VB</td>\n",
       "      <td>Nelson</td>\n",
       "      <td>4/06/2016</td>\n",
       "      <td>2.5</td>\n",
       "      <td>...</td>\n",
       "      <td>2</td>\n",
       "      <td>120.0</td>\n",
       "      <td>142.0</td>\n",
       "      <td>2014</td>\n",
       "      <td>Yarra</td>\n",
       "      <td>-37.8072</td>\n",
       "      <td>144.9941</td>\n",
       "      <td>Northern Metropolitan</td>\n",
       "      <td>4019</td>\n",
       "      <td>-37.8072, 144.9941</td>\n",
       "    </tr>\n",
       "  </tbody>\n",
       "</table>\n",
       "<p>5 rows × 23 columns</p>\n",
       "</div>"
      ],
      "text/plain": [
       "   index      Suburb           Address  Rooms Type      Price Method SellerG  \\\n",
       "0      0  Abbotsford      85 Turner St      2    h  1480000.0      S  Biggin   \n",
       "1      1  Abbotsford   25 Bloomburg St      2    h  1035000.0      S  Biggin   \n",
       "2      2  Abbotsford      5 Charles St      3    h  1465000.0     SP  Biggin   \n",
       "3      3  Abbotsford  40 Federation La      3    h   850000.0     PI  Biggin   \n",
       "4      4  Abbotsford       55a Park St      4    h  1600000.0     VB  Nelson   \n",
       "\n",
       "        Date  Distance  ...  Car  Landsize  BuildingArea  YearBuilt  \\\n",
       "0  3/12/2016       2.5  ...    1     202.0         126.0       1970   \n",
       "1  4/02/2016       2.5  ...    0     156.0          79.0       1900   \n",
       "2  4/03/2017       2.5  ...    0     134.0         150.0       1900   \n",
       "3  4/03/2017       2.5  ...    1      94.0         126.0       1970   \n",
       "4  4/06/2016       2.5  ...    2     120.0         142.0       2014   \n",
       "\n",
       "   CouncilArea  Lattitude  Longtitude             Regionname  Propertycount  \\\n",
       "0        Yarra   -37.7996    144.9984  Northern Metropolitan           4019   \n",
       "1        Yarra   -37.8079    144.9934  Northern Metropolitan           4019   \n",
       "2        Yarra   -37.8093    144.9944  Northern Metropolitan           4019   \n",
       "3        Yarra   -37.7969    144.9969  Northern Metropolitan           4019   \n",
       "4        Yarra   -37.8072    144.9941  Northern Metropolitan           4019   \n",
       "\n",
       "          Coordinates  \n",
       "0  -37.7996, 144.9984  \n",
       "1  -37.8079, 144.9934  \n",
       "2  -37.8093, 144.9944  \n",
       "3  -37.7969, 144.9969  \n",
       "4  -37.8072, 144.9941  \n",
       "\n",
       "[5 rows x 23 columns]"
      ]
     },
     "execution_count": 315,
     "metadata": {},
     "output_type": "execute_result"
    }
   ],
   "source": [
    "melb_data = pd.read_csv('data/melb_data_ps.csv', sep=',')\n",
    "melb_data.head()"
   ]
  },
  {
   "cell_type": "code",
   "execution_count": 316,
   "metadata": {},
   "outputs": [
    {
     "name": "stdout",
     "output_type": "stream",
     "text": [
      "<class 'pandas.core.frame.DataFrame'>\n",
      "RangeIndex: 13580 entries, 0 to 13579\n",
      "Data columns (total 23 columns):\n",
      " #   Column         Non-Null Count  Dtype  \n",
      "---  ------         --------------  -----  \n",
      " 0   index          13580 non-null  int64  \n",
      " 1   Suburb         13580 non-null  object \n",
      " 2   Address        13580 non-null  object \n",
      " 3   Rooms          13580 non-null  int64  \n",
      " 4   Type           13580 non-null  object \n",
      " 5   Price          13580 non-null  float64\n",
      " 6   Method         13580 non-null  object \n",
      " 7   SellerG        13580 non-null  object \n",
      " 8   Date           13580 non-null  object \n",
      " 9   Distance       13580 non-null  float64\n",
      " 10  Postcode       13580 non-null  int64  \n",
      " 11  Bedroom        13580 non-null  int64  \n",
      " 12  Bathroom       13580 non-null  int64  \n",
      " 13  Car            13580 non-null  int64  \n",
      " 14  Landsize       13580 non-null  float64\n",
      " 15  BuildingArea   13580 non-null  float64\n",
      " 16  YearBuilt      13580 non-null  int64  \n",
      " 17  CouncilArea    12211 non-null  object \n",
      " 18  Lattitude      13580 non-null  float64\n",
      " 19  Longtitude     13580 non-null  float64\n",
      " 20  Regionname     13580 non-null  object \n",
      " 21  Propertycount  13580 non-null  int64  \n",
      " 22  Coordinates    13580 non-null  object \n",
      "dtypes: float64(6), int64(8), object(9)\n",
      "memory usage: 2.4+ MB\n"
     ]
    }
   ],
   "source": [
    "melb_data.info()\n"
   ]
  },
  {
   "cell_type": "markdown",
   "metadata": {},
   "source": [
    "# 11.2 Базовые операции со столбцами"
   ]
  },
  {
   "cell_type": "code",
   "execution_count": 317,
   "metadata": {},
   "outputs": [],
   "source": [
    "#  Копирование DataFrame\n",
    "melb_df = melb_data.copy()"
   ]
  },
  {
   "cell_type": "code",
   "execution_count": 318,
   "metadata": {},
   "outputs": [
    {
     "data": {
      "text/html": [
       "<div>\n",
       "<style scoped>\n",
       "    .dataframe tbody tr th:only-of-type {\n",
       "        vertical-align: middle;\n",
       "    }\n",
       "\n",
       "    .dataframe tbody tr th {\n",
       "        vertical-align: top;\n",
       "    }\n",
       "\n",
       "    .dataframe thead th {\n",
       "        text-align: right;\n",
       "    }\n",
       "</style>\n",
       "<table border=\"1\" class=\"dataframe\">\n",
       "  <thead>\n",
       "    <tr style=\"text-align: right;\">\n",
       "      <th></th>\n",
       "      <th>Suburb</th>\n",
       "      <th>Address</th>\n",
       "      <th>Rooms</th>\n",
       "      <th>Type</th>\n",
       "      <th>Price</th>\n",
       "      <th>Method</th>\n",
       "      <th>SellerG</th>\n",
       "      <th>Date</th>\n",
       "      <th>Distance</th>\n",
       "      <th>Postcode</th>\n",
       "      <th>...</th>\n",
       "      <th>Bathroom</th>\n",
       "      <th>Car</th>\n",
       "      <th>Landsize</th>\n",
       "      <th>BuildingArea</th>\n",
       "      <th>YearBuilt</th>\n",
       "      <th>CouncilArea</th>\n",
       "      <th>Lattitude</th>\n",
       "      <th>Longtitude</th>\n",
       "      <th>Regionname</th>\n",
       "      <th>Propertycount</th>\n",
       "    </tr>\n",
       "  </thead>\n",
       "  <tbody>\n",
       "    <tr>\n",
       "      <th>0</th>\n",
       "      <td>Abbotsford</td>\n",
       "      <td>85 Turner St</td>\n",
       "      <td>2</td>\n",
       "      <td>h</td>\n",
       "      <td>1480000.0</td>\n",
       "      <td>S</td>\n",
       "      <td>Biggin</td>\n",
       "      <td>3/12/2016</td>\n",
       "      <td>2.5</td>\n",
       "      <td>3067</td>\n",
       "      <td>...</td>\n",
       "      <td>1</td>\n",
       "      <td>1</td>\n",
       "      <td>202.0</td>\n",
       "      <td>126.0</td>\n",
       "      <td>1970</td>\n",
       "      <td>Yarra</td>\n",
       "      <td>-37.79960</td>\n",
       "      <td>144.99840</td>\n",
       "      <td>Northern Metropolitan</td>\n",
       "      <td>4019</td>\n",
       "    </tr>\n",
       "    <tr>\n",
       "      <th>1</th>\n",
       "      <td>Abbotsford</td>\n",
       "      <td>25 Bloomburg St</td>\n",
       "      <td>2</td>\n",
       "      <td>h</td>\n",
       "      <td>1035000.0</td>\n",
       "      <td>S</td>\n",
       "      <td>Biggin</td>\n",
       "      <td>4/02/2016</td>\n",
       "      <td>2.5</td>\n",
       "      <td>3067</td>\n",
       "      <td>...</td>\n",
       "      <td>1</td>\n",
       "      <td>0</td>\n",
       "      <td>156.0</td>\n",
       "      <td>79.0</td>\n",
       "      <td>1900</td>\n",
       "      <td>Yarra</td>\n",
       "      <td>-37.80790</td>\n",
       "      <td>144.99340</td>\n",
       "      <td>Northern Metropolitan</td>\n",
       "      <td>4019</td>\n",
       "    </tr>\n",
       "    <tr>\n",
       "      <th>2</th>\n",
       "      <td>Abbotsford</td>\n",
       "      <td>5 Charles St</td>\n",
       "      <td>3</td>\n",
       "      <td>h</td>\n",
       "      <td>1465000.0</td>\n",
       "      <td>SP</td>\n",
       "      <td>Biggin</td>\n",
       "      <td>4/03/2017</td>\n",
       "      <td>2.5</td>\n",
       "      <td>3067</td>\n",
       "      <td>...</td>\n",
       "      <td>2</td>\n",
       "      <td>0</td>\n",
       "      <td>134.0</td>\n",
       "      <td>150.0</td>\n",
       "      <td>1900</td>\n",
       "      <td>Yarra</td>\n",
       "      <td>-37.80930</td>\n",
       "      <td>144.99440</td>\n",
       "      <td>Northern Metropolitan</td>\n",
       "      <td>4019</td>\n",
       "    </tr>\n",
       "    <tr>\n",
       "      <th>3</th>\n",
       "      <td>Abbotsford</td>\n",
       "      <td>40 Federation La</td>\n",
       "      <td>3</td>\n",
       "      <td>h</td>\n",
       "      <td>850000.0</td>\n",
       "      <td>PI</td>\n",
       "      <td>Biggin</td>\n",
       "      <td>4/03/2017</td>\n",
       "      <td>2.5</td>\n",
       "      <td>3067</td>\n",
       "      <td>...</td>\n",
       "      <td>2</td>\n",
       "      <td>1</td>\n",
       "      <td>94.0</td>\n",
       "      <td>126.0</td>\n",
       "      <td>1970</td>\n",
       "      <td>Yarra</td>\n",
       "      <td>-37.79690</td>\n",
       "      <td>144.99690</td>\n",
       "      <td>Northern Metropolitan</td>\n",
       "      <td>4019</td>\n",
       "    </tr>\n",
       "    <tr>\n",
       "      <th>4</th>\n",
       "      <td>Abbotsford</td>\n",
       "      <td>55a Park St</td>\n",
       "      <td>4</td>\n",
       "      <td>h</td>\n",
       "      <td>1600000.0</td>\n",
       "      <td>VB</td>\n",
       "      <td>Nelson</td>\n",
       "      <td>4/06/2016</td>\n",
       "      <td>2.5</td>\n",
       "      <td>3067</td>\n",
       "      <td>...</td>\n",
       "      <td>1</td>\n",
       "      <td>2</td>\n",
       "      <td>120.0</td>\n",
       "      <td>142.0</td>\n",
       "      <td>2014</td>\n",
       "      <td>Yarra</td>\n",
       "      <td>-37.80720</td>\n",
       "      <td>144.99410</td>\n",
       "      <td>Northern Metropolitan</td>\n",
       "      <td>4019</td>\n",
       "    </tr>\n",
       "    <tr>\n",
       "      <th>...</th>\n",
       "      <td>...</td>\n",
       "      <td>...</td>\n",
       "      <td>...</td>\n",
       "      <td>...</td>\n",
       "      <td>...</td>\n",
       "      <td>...</td>\n",
       "      <td>...</td>\n",
       "      <td>...</td>\n",
       "      <td>...</td>\n",
       "      <td>...</td>\n",
       "      <td>...</td>\n",
       "      <td>...</td>\n",
       "      <td>...</td>\n",
       "      <td>...</td>\n",
       "      <td>...</td>\n",
       "      <td>...</td>\n",
       "      <td>...</td>\n",
       "      <td>...</td>\n",
       "      <td>...</td>\n",
       "      <td>...</td>\n",
       "      <td>...</td>\n",
       "    </tr>\n",
       "    <tr>\n",
       "      <th>13575</th>\n",
       "      <td>Wheelers Hill</td>\n",
       "      <td>12 Strada Cr</td>\n",
       "      <td>4</td>\n",
       "      <td>h</td>\n",
       "      <td>1245000.0</td>\n",
       "      <td>S</td>\n",
       "      <td>Barry</td>\n",
       "      <td>26/08/2017</td>\n",
       "      <td>16.7</td>\n",
       "      <td>3150</td>\n",
       "      <td>...</td>\n",
       "      <td>2</td>\n",
       "      <td>2</td>\n",
       "      <td>652.0</td>\n",
       "      <td>126.0</td>\n",
       "      <td>1981</td>\n",
       "      <td>NaN</td>\n",
       "      <td>-37.90562</td>\n",
       "      <td>145.16761</td>\n",
       "      <td>South-Eastern Metropolitan</td>\n",
       "      <td>7392</td>\n",
       "    </tr>\n",
       "    <tr>\n",
       "      <th>13576</th>\n",
       "      <td>Williamstown</td>\n",
       "      <td>77 Merrett Dr</td>\n",
       "      <td>3</td>\n",
       "      <td>h</td>\n",
       "      <td>1031000.0</td>\n",
       "      <td>SP</td>\n",
       "      <td>Williams</td>\n",
       "      <td>26/08/2017</td>\n",
       "      <td>6.8</td>\n",
       "      <td>3016</td>\n",
       "      <td>...</td>\n",
       "      <td>2</td>\n",
       "      <td>2</td>\n",
       "      <td>333.0</td>\n",
       "      <td>133.0</td>\n",
       "      <td>1995</td>\n",
       "      <td>NaN</td>\n",
       "      <td>-37.85927</td>\n",
       "      <td>144.87904</td>\n",
       "      <td>Western Metropolitan</td>\n",
       "      <td>6380</td>\n",
       "    </tr>\n",
       "    <tr>\n",
       "      <th>13577</th>\n",
       "      <td>Williamstown</td>\n",
       "      <td>83 Power St</td>\n",
       "      <td>3</td>\n",
       "      <td>h</td>\n",
       "      <td>1170000.0</td>\n",
       "      <td>S</td>\n",
       "      <td>Raine</td>\n",
       "      <td>26/08/2017</td>\n",
       "      <td>6.8</td>\n",
       "      <td>3016</td>\n",
       "      <td>...</td>\n",
       "      <td>2</td>\n",
       "      <td>4</td>\n",
       "      <td>436.0</td>\n",
       "      <td>126.0</td>\n",
       "      <td>1997</td>\n",
       "      <td>NaN</td>\n",
       "      <td>-37.85274</td>\n",
       "      <td>144.88738</td>\n",
       "      <td>Western Metropolitan</td>\n",
       "      <td>6380</td>\n",
       "    </tr>\n",
       "    <tr>\n",
       "      <th>13578</th>\n",
       "      <td>Williamstown</td>\n",
       "      <td>96 Verdon St</td>\n",
       "      <td>4</td>\n",
       "      <td>h</td>\n",
       "      <td>2500000.0</td>\n",
       "      <td>PI</td>\n",
       "      <td>Sweeney</td>\n",
       "      <td>26/08/2017</td>\n",
       "      <td>6.8</td>\n",
       "      <td>3016</td>\n",
       "      <td>...</td>\n",
       "      <td>1</td>\n",
       "      <td>5</td>\n",
       "      <td>866.0</td>\n",
       "      <td>157.0</td>\n",
       "      <td>1920</td>\n",
       "      <td>NaN</td>\n",
       "      <td>-37.85908</td>\n",
       "      <td>144.89299</td>\n",
       "      <td>Western Metropolitan</td>\n",
       "      <td>6380</td>\n",
       "    </tr>\n",
       "    <tr>\n",
       "      <th>13579</th>\n",
       "      <td>Yarraville</td>\n",
       "      <td>6 Agnes St</td>\n",
       "      <td>4</td>\n",
       "      <td>h</td>\n",
       "      <td>1285000.0</td>\n",
       "      <td>SP</td>\n",
       "      <td>Village</td>\n",
       "      <td>26/08/2017</td>\n",
       "      <td>6.3</td>\n",
       "      <td>3013</td>\n",
       "      <td>...</td>\n",
       "      <td>1</td>\n",
       "      <td>1</td>\n",
       "      <td>362.0</td>\n",
       "      <td>112.0</td>\n",
       "      <td>1920</td>\n",
       "      <td>NaN</td>\n",
       "      <td>-37.81188</td>\n",
       "      <td>144.88449</td>\n",
       "      <td>Western Metropolitan</td>\n",
       "      <td>6543</td>\n",
       "    </tr>\n",
       "  </tbody>\n",
       "</table>\n",
       "<p>13580 rows × 21 columns</p>\n",
       "</div>"
      ],
      "text/plain": [
       "              Suburb           Address  Rooms Type      Price Method  \\\n",
       "0         Abbotsford      85 Turner St      2    h  1480000.0      S   \n",
       "1         Abbotsford   25 Bloomburg St      2    h  1035000.0      S   \n",
       "2         Abbotsford      5 Charles St      3    h  1465000.0     SP   \n",
       "3         Abbotsford  40 Federation La      3    h   850000.0     PI   \n",
       "4         Abbotsford       55a Park St      4    h  1600000.0     VB   \n",
       "...              ...               ...    ...  ...        ...    ...   \n",
       "13575  Wheelers Hill      12 Strada Cr      4    h  1245000.0      S   \n",
       "13576   Williamstown     77 Merrett Dr      3    h  1031000.0     SP   \n",
       "13577   Williamstown       83 Power St      3    h  1170000.0      S   \n",
       "13578   Williamstown      96 Verdon St      4    h  2500000.0     PI   \n",
       "13579     Yarraville        6 Agnes St      4    h  1285000.0     SP   \n",
       "\n",
       "        SellerG        Date  Distance  Postcode  ...  Bathroom  Car  Landsize  \\\n",
       "0        Biggin   3/12/2016       2.5      3067  ...         1    1     202.0   \n",
       "1        Biggin   4/02/2016       2.5      3067  ...         1    0     156.0   \n",
       "2        Biggin   4/03/2017       2.5      3067  ...         2    0     134.0   \n",
       "3        Biggin   4/03/2017       2.5      3067  ...         2    1      94.0   \n",
       "4        Nelson   4/06/2016       2.5      3067  ...         1    2     120.0   \n",
       "...         ...         ...       ...       ...  ...       ...  ...       ...   \n",
       "13575     Barry  26/08/2017      16.7      3150  ...         2    2     652.0   \n",
       "13576  Williams  26/08/2017       6.8      3016  ...         2    2     333.0   \n",
       "13577     Raine  26/08/2017       6.8      3016  ...         2    4     436.0   \n",
       "13578   Sweeney  26/08/2017       6.8      3016  ...         1    5     866.0   \n",
       "13579   Village  26/08/2017       6.3      3013  ...         1    1     362.0   \n",
       "\n",
       "       BuildingArea  YearBuilt  CouncilArea Lattitude  Longtitude  \\\n",
       "0             126.0       1970        Yarra -37.79960   144.99840   \n",
       "1              79.0       1900        Yarra -37.80790   144.99340   \n",
       "2             150.0       1900        Yarra -37.80930   144.99440   \n",
       "3             126.0       1970        Yarra -37.79690   144.99690   \n",
       "4             142.0       2014        Yarra -37.80720   144.99410   \n",
       "...             ...        ...          ...       ...         ...   \n",
       "13575         126.0       1981          NaN -37.90562   145.16761   \n",
       "13576         133.0       1995          NaN -37.85927   144.87904   \n",
       "13577         126.0       1997          NaN -37.85274   144.88738   \n",
       "13578         157.0       1920          NaN -37.85908   144.89299   \n",
       "13579         112.0       1920          NaN -37.81188   144.88449   \n",
       "\n",
       "                       Regionname Propertycount  \n",
       "0           Northern Metropolitan          4019  \n",
       "1           Northern Metropolitan          4019  \n",
       "2           Northern Metropolitan          4019  \n",
       "3           Northern Metropolitan          4019  \n",
       "4           Northern Metropolitan          4019  \n",
       "...                           ...           ...  \n",
       "13575  South-Eastern Metropolitan          7392  \n",
       "13576        Western Metropolitan          6380  \n",
       "13577        Western Metropolitan          6380  \n",
       "13578        Western Metropolitan          6380  \n",
       "13579        Western Metropolitan          6543  \n",
       "\n",
       "[13580 rows x 21 columns]"
      ]
     },
     "execution_count": 318,
     "metadata": {},
     "output_type": "execute_result"
    }
   ],
   "source": [
    "# Удаление строк и столбцов из DF\n",
    "melb_df.drop(['index', 'Coordinates'], axis=1)"
   ]
  },
  {
   "cell_type": "markdown",
   "metadata": {},
   "source": [
    "# Математические операции"
   ]
  },
  {
   "cell_type": "code",
   "execution_count": 319,
   "metadata": {},
   "outputs": [
    {
     "data": {
      "text/plain": [
       "0         5\n",
       "1         5\n",
       "2         8\n",
       "3         8\n",
       "4         8\n",
       "         ..\n",
       "13575    10\n",
       "13576     8\n",
       "13577     8\n",
       "13578     9\n",
       "13579     9\n",
       "Length: 13580, dtype: int64"
      ]
     },
     "metadata": {},
     "output_type": "display_data"
    }
   ],
   "source": [
    "total_rooms = melb_df['Rooms'] + melb_df['Bedroom'] + melb_df['Bathroom']\n",
    "display(total_rooms)"
   ]
  },
  {
   "cell_type": "code",
   "execution_count": 320,
   "metadata": {},
   "outputs": [
    {
     "data": {
      "text/plain": [
       "0        25.200000\n",
       "1        15.800000\n",
       "2        18.750000\n",
       "3        15.750000\n",
       "4        17.750000\n",
       "           ...    \n",
       "13575    12.600000\n",
       "13576    16.625000\n",
       "13577    15.750000\n",
       "13578    17.444444\n",
       "13579    12.444444\n",
       "Name: MeanRoomsSquare, Length: 13580, dtype: float64"
      ]
     },
     "metadata": {},
     "output_type": "display_data"
    }
   ],
   "source": [
    "melb_df['MeanRoomsSquare'] = melb_df['BuildingArea'] / total_rooms\n",
    "display(melb_df['MeanRoomsSquare'])"
   ]
  },
  {
   "cell_type": "code",
   "execution_count": 321,
   "metadata": {},
   "outputs": [
    {
     "data": {
      "text/plain": [
       "0       -0.231707\n",
       "1       -0.327660\n",
       "2        0.056338\n",
       "3        0.145455\n",
       "4        0.083969\n",
       "           ...   \n",
       "13575   -0.676093\n",
       "13576   -0.429185\n",
       "13577   -0.551601\n",
       "13578   -0.693060\n",
       "13579   -0.527426\n",
       "Name: AreaRaito, Length: 13580, dtype: float64"
      ]
     },
     "metadata": {},
     "output_type": "display_data"
    }
   ],
   "source": [
    "diff_area = melb_df['BuildingArea'] - melb_df['Landsize']\n",
    "sum_area = melb_df['BuildingArea'] + melb_df['Landsize']\n",
    "melb_df['AreaRaito'] = diff_area/sum_area\n",
    "display(melb_df['AreaRaito'])"
   ]
  },
  {
   "cell_type": "code",
   "execution_count": 322,
   "metadata": {},
   "outputs": [],
   "source": [
    "countries_df = pd.DataFrame({\n",
    "    'country': ['Англия', 'Канада', 'США', 'Россия', 'Украина', 'Беларусь', 'Казахстан'],\n",
    "    'population': [56.29, 38.05, 322.28, 146.24, 45.5, 9.5, 17.04],\n",
    "    'square': [133396, 9984670, 9826630, 17125191, 603628, 207600, 2724902]\n",
    "})"
   ]
  },
  {
   "cell_type": "code",
   "execution_count": 323,
   "metadata": {},
   "outputs": [
    {
     "data": {
      "text/plain": [
       "84.93080566562001"
      ]
     },
     "execution_count": 323,
     "metadata": {},
     "output_type": "execute_result"
    }
   ],
   "source": [
    "countries_df['Population_country'] = (countries_df['population']*1000000) / countries_df['square']\n",
    "countries_df['Population_country'].mean()\n"
   ]
  },
  {
   "cell_type": "markdown",
   "metadata": {},
   "source": [
    "# Работа с датами и временем"
   ]
  },
  {
   "cell_type": "code",
   "execution_count": 324,
   "metadata": {},
   "outputs": [
    {
     "data": {
      "text/plain": [
       "0         3/12/2016\n",
       "1         4/02/2016\n",
       "2         4/03/2017\n",
       "3         4/03/2017\n",
       "4         4/06/2016\n",
       "            ...    \n",
       "13575    26/08/2017\n",
       "13576    26/08/2017\n",
       "13577    26/08/2017\n",
       "13578    26/08/2017\n",
       "13579    26/08/2017\n",
       "Name: Date, Length: 13580, dtype: object"
      ]
     },
     "metadata": {},
     "output_type": "display_data"
    }
   ],
   "source": [
    "display(melb_df['Date'])"
   ]
  },
  {
   "cell_type": "code",
   "execution_count": 325,
   "metadata": {},
   "outputs": [
    {
     "data": {
      "text/plain": [
       "0       2016-12-03\n",
       "1       2016-02-04\n",
       "2       2017-03-04\n",
       "3       2017-03-04\n",
       "4       2016-06-04\n",
       "           ...    \n",
       "13575   2017-08-26\n",
       "13576   2017-08-26\n",
       "13577   2017-08-26\n",
       "13578   2017-08-26\n",
       "13579   2017-08-26\n",
       "Name: Date, Length: 13580, dtype: datetime64[ns]"
      ]
     },
     "metadata": {},
     "output_type": "display_data"
    }
   ],
   "source": [
    "melb_df['Date'] = pd.to_datetime(melb_df['Date'], dayfirst=True)\n",
    "display(melb_df['Date'])"
   ]
  },
  {
   "cell_type": "code",
   "execution_count": 326,
   "metadata": {},
   "outputs": [
    {
     "name": "stdout",
     "output_type": "stream",
     "text": [
      "0        2016\n",
      "1        2016\n",
      "2        2017\n",
      "3        2017\n",
      "4        2016\n",
      "         ... \n",
      "13575    2017\n",
      "13576    2017\n",
      "13577    2017\n",
      "13578    2017\n",
      "13579    2017\n",
      "Name: Date, Length: 13580, dtype: int64\n",
      "Min year sold: 2016\n",
      "Max year sold: 2017\n",
      "Mode year sold: 2017\n"
     ]
    }
   ],
   "source": [
    "years_sold = melb_df['Date'].dt.year\n",
    "print(years_sold)\n",
    "print('Min year sold:', years_sold.min())\n",
    "print('Max year sold:', years_sold.max())\n",
    "print('Mode year sold:', years_sold.mode()[0])"
   ]
  },
  {
   "cell_type": "code",
   "execution_count": 327,
   "metadata": {},
   "outputs": [
    {
     "data": {
      "text/plain": [
       "5     0.149411\n",
       "7     0.145950\n",
       "9     0.135862\n",
       "6     0.134757\n",
       "8     0.114138\n",
       "11    0.082032\n",
       "4     0.069882\n",
       "3     0.049926\n",
       "12    0.044698\n",
       "10    0.040574\n",
       "2     0.032622\n",
       "1     0.000147\n",
       "Name: MonthSale, dtype: float64"
      ]
     },
     "execution_count": 327,
     "metadata": {},
     "output_type": "execute_result"
    }
   ],
   "source": [
    "melb_df['MonthSale'] = melb_df['Date'].dt.month\n",
    "melb_df['MonthSale'].value_counts(normalize=True)"
   ]
  },
  {
   "cell_type": "code",
   "execution_count": 328,
   "metadata": {},
   "outputs": [
    {
     "data": {
      "text/plain": [
       "0       337 days\n",
       "1        34 days\n",
       "2       428 days\n",
       "3       428 days\n",
       "4       155 days\n",
       "          ...   \n",
       "13575   603 days\n",
       "13576   603 days\n",
       "13577   603 days\n",
       "13578   603 days\n",
       "13579   603 days\n",
       "Name: Date, Length: 13580, dtype: timedelta64[ns]"
      ]
     },
     "metadata": {},
     "output_type": "display_data"
    }
   ],
   "source": [
    "# сколько дней прошло с 1 января 2016 это разница между датой и данным числом\n",
    "delta_days =  melb_df['Date'] - pd.to_datetime('2016-01-01')\n",
    "display(delta_days)"
   ]
  },
  {
   "cell_type": "code",
   "execution_count": 329,
   "metadata": {},
   "outputs": [
    {
     "data": {
      "text/plain": [
       "0        337\n",
       "1         34\n",
       "2        428\n",
       "3        428\n",
       "4        155\n",
       "        ... \n",
       "13575    603\n",
       "13576    603\n",
       "13577    603\n",
       "13578    603\n",
       "13579    603\n",
       "Name: Date, Length: 13580, dtype: int64"
      ]
     },
     "metadata": {},
     "output_type": "display_data"
    }
   ],
   "source": [
    "display(delta_days.dt.days)\n"
   ]
  },
  {
   "cell_type": "code",
   "execution_count": 330,
   "metadata": {},
   "outputs": [
    {
     "data": {
      "text/plain": [
       "0         46\n",
       "1        116\n",
       "2        117\n",
       "3         47\n",
       "4          2\n",
       "        ... \n",
       "13575     36\n",
       "13576     22\n",
       "13577     20\n",
       "13578     97\n",
       "13579     97\n",
       "Name: AgeBuilding, Length: 13580, dtype: int64"
      ]
     },
     "metadata": {},
     "output_type": "display_data"
    }
   ],
   "source": [
    "melb_df['AgeBuilding']= melb_df['Date'].dt.year - melb_df['YearBuilt']\n",
    "display(melb_df['AgeBuilding'])"
   ]
  },
  {
   "cell_type": "code",
   "execution_count": 331,
   "metadata": {},
   "outputs": [],
   "source": [
    "melb_df = melb_df.drop('YearBuilt', axis=1)"
   ]
  },
  {
   "cell_type": "code",
   "execution_count": 332,
   "metadata": {},
   "outputs": [
    {
     "data": {
      "text/plain": [
       "0        5\n",
       "1        3\n",
       "2        5\n",
       "3        5\n",
       "4        5\n",
       "        ..\n",
       "13575    5\n",
       "13576    5\n",
       "13577    5\n",
       "13578    5\n",
       "13579    5\n",
       "Name: WeekdaySale, Length: 13580, dtype: int64"
      ]
     },
     "metadata": {},
     "output_type": "display_data"
    }
   ],
   "source": [
    "melb_df['WeekdaySale'] = melb_df['Date'].dt.dayofweek\n",
    "display(melb_df['WeekdaySale'])"
   ]
  },
  {
   "cell_type": "code",
   "execution_count": 333,
   "metadata": {},
   "outputs": [
    {
     "name": "stdout",
     "output_type": "stream",
     "text": [
      "12822\n"
     ]
    }
   ],
   "source": [
    "weekend_count = melb_df[melb_df['WeekdaySale'] >= 5].shape[0]\n",
    "print(weekend_count)"
   ]
  },
  {
   "cell_type": "code",
   "execution_count": 334,
   "metadata": {},
   "outputs": [],
   "source": [
    "ufo_data = pd.read_csv('https://raw.githubusercontent.com/justmarkham/pandas-videos/master/data/ufo.csv')"
   ]
  },
  {
   "cell_type": "code",
   "execution_count": 335,
   "metadata": {},
   "outputs": [],
   "source": [
    "ufo_df = ufo_data.copy()\n"
   ]
  },
  {
   "cell_type": "code",
   "execution_count": 336,
   "metadata": {},
   "outputs": [
    {
     "data": {
      "text/plain": [
       "0       1930-06-01 22:00:00\n",
       "1       1930-06-30 20:00:00\n",
       "2       1931-02-15 14:00:00\n",
       "3       1931-06-01 13:00:00\n",
       "4       1933-04-18 19:00:00\n",
       "                ...        \n",
       "18236   2000-12-31 23:00:00\n",
       "18237   2000-12-31 23:00:00\n",
       "18238   2000-12-31 23:45:00\n",
       "18239   2000-12-31 23:45:00\n",
       "18240   2000-12-31 23:59:00\n",
       "Name: Time, Length: 18241, dtype: datetime64[ns]"
      ]
     },
     "metadata": {},
     "output_type": "display_data"
    }
   ],
   "source": [
    "ufo_df['Time'] = pd.to_datetime(ufo_df['Time'])\n",
    "display(ufo_df['Time'])"
   ]
  },
  {
   "cell_type": "code",
   "execution_count": 337,
   "metadata": {},
   "outputs": [
    {
     "data": {
      "text/plain": [
       "1999    0.152075\n",
       "2000    0.144455\n",
       "1998    0.095554\n",
       "1995    0.073680\n",
       "1997    0.067814\n",
       "          ...   \n",
       "1936    0.000110\n",
       "1930    0.000110\n",
       "1935    0.000055\n",
       "1934    0.000055\n",
       "1933    0.000055\n",
       "Name: Time, Length: 68, dtype: float64"
      ]
     },
     "execution_count": 337,
     "metadata": {},
     "output_type": "execute_result"
    }
   ],
   "source": [
    "ufo_df['Time'].dt.year.value_counts(normalize=True)"
   ]
  },
  {
   "cell_type": "code",
   "execution_count": 338,
   "metadata": {},
   "outputs": [],
   "source": [
    "ufo_df['Date'] = ufo_df['Time'].dt.date"
   ]
  },
  {
   "cell_type": "code",
   "execution_count": 339,
   "metadata": {},
   "outputs": [
    {
     "name": "stdout",
     "output_type": "stream",
     "text": [
      "68.92932862190813\n"
     ]
    }
   ],
   "source": [
    "print(ufo_df[ufo_df['State']=='NV']['Date'].diff().dt.days.mean())"
   ]
  },
  {
   "cell_type": "markdown",
   "metadata": {},
   "source": [
    "# Создание и приобразование столбцов с помощью функций"
   ]
  },
  {
   "cell_type": "code",
   "execution_count": 340,
   "metadata": {},
   "outputs": [
    {
     "name": "stdout",
     "output_type": "stream",
     "text": [
      "13378\n"
     ]
    }
   ],
   "source": [
    "# количество не уникальных значений в столбце\n",
    "print(melb_df['Address'].nunique())"
   ]
  },
  {
   "cell_type": "code",
   "execution_count": 341,
   "metadata": {},
   "outputs": [
    {
     "name": "stdout",
     "output_type": "stream",
     "text": [
      "2/119 Railway St N\n",
      "9/400 Dandenong Rd\n",
      "172 Danks St\n"
     ]
    }
   ],
   "source": [
    "print(melb_df['Address'].loc[177])\n",
    "print(melb_df['Address'].loc[1812])\n",
    "print(melb_df['Address'].loc[9001])"
   ]
  },
  {
   "cell_type": "code",
   "execution_count": 342,
   "metadata": {},
   "outputs": [],
   "source": [
    "def get_street_type(address):\n",
    "    exclude_list = ['N', 'S', 'W', 'E']\n",
    "    address_list = address.split(sep=' ')\n",
    "    street_type = address_list[-1]\n",
    "    if street_type in exclude_list:\n",
    "        street_type = address_list[-2]\n",
    "    return street_type"
   ]
  },
  {
   "cell_type": "code",
   "execution_count": 343,
   "metadata": {},
   "outputs": [
    {
     "data": {
      "text/plain": [
       "0        St\n",
       "1        St\n",
       "2        St\n",
       "3        La\n",
       "4        St\n",
       "         ..\n",
       "13575    Cr\n",
       "13576    Dr\n",
       "13577    St\n",
       "13578    St\n",
       "13579    St\n",
       "Name: Address, Length: 13580, dtype: object"
      ]
     },
     "metadata": {},
     "output_type": "display_data"
    }
   ],
   "source": [
    "street_type = melb_df['Address'].apply(get_street_type)\n",
    "display(street_type)"
   ]
  },
  {
   "cell_type": "code",
   "execution_count": 344,
   "metadata": {},
   "outputs": [
    {
     "name": "stdout",
     "output_type": "stream",
     "text": [
      "56\n"
     ]
    }
   ],
   "source": [
    "print(street_type.nunique())"
   ]
  },
  {
   "cell_type": "code",
   "execution_count": 345,
   "metadata": {},
   "outputs": [
    {
     "data": {
      "text/plain": [
       "St           8012\n",
       "Rd           2825\n",
       "Ct            612\n",
       "Dr            447\n",
       "Av            321\n",
       "Gr            311\n",
       "Pde           211\n",
       "Pl            169\n",
       "Cr            152\n",
       "Cl            100\n",
       "La             67\n",
       "Bvd            53\n",
       "Tce            47\n",
       "Wy             40\n",
       "Avenue         40\n",
       "Cct            25\n",
       "Hwy            24\n",
       "Parade         15\n",
       "Boulevard      13\n",
       "Sq             11\n",
       "Crescent        9\n",
       "Cir             7\n",
       "Strand          7\n",
       "Esplanade       6\n",
       "Grove           5\n",
       "Gdns            4\n",
       "Grn             4\n",
       "Fairway         4\n",
       "Mews            4\n",
       "Crossway        3\n",
       "Righi           3\n",
       "Victoria        2\n",
       "Ridge           2\n",
       "Crofts          2\n",
       "Esp             2\n",
       "Glade           1\n",
       "Gra             1\n",
       "Ave             1\n",
       "Woodland        1\n",
       "Outlook         1\n",
       "Hts             1\n",
       "Highway         1\n",
       "Athol           1\n",
       "Summit          1\n",
       "Grand           1\n",
       "Res             1\n",
       "Nook            1\n",
       "Eyrie           1\n",
       "Dell            1\n",
       "East            1\n",
       "Loop            1\n",
       "Grange          1\n",
       "Terrace         1\n",
       "Cove            1\n",
       "Qy              1\n",
       "Corso           1\n",
       "Name: Address, dtype: int64"
      ]
     },
     "execution_count": 345,
     "metadata": {},
     "output_type": "execute_result"
    }
   ],
   "source": [
    "street_type.value_counts()"
   ]
  },
  {
   "cell_type": "code",
   "execution_count": 346,
   "metadata": {},
   "outputs": [],
   "source": [
    "street_type = street_type.apply(lambda x: 'Bvd' if x == 'Boulevard' else x)\n",
    "street_type = street_type.apply(lambda x: 'Pde' if x == 'Parade' else x)\n",
    "street_type = street_type.apply(lambda x: 'Av' if x == 'Avenue' else x)"
   ]
  },
  {
   "cell_type": "code",
   "execution_count": 347,
   "metadata": {},
   "outputs": [
    {
     "name": "stdout",
     "output_type": "stream",
     "text": [
      "St     8012\n",
      "Rd     2825\n",
      "Ct      612\n",
      "Dr      447\n",
      "Av      361\n",
      "Gr      311\n",
      "Pde     226\n",
      "Pl      169\n",
      "Cr      152\n",
      "Cl      100\n",
      "Name: Address, dtype: int64\n"
     ]
    }
   ],
   "source": [
    "# Для этого к результату метода value_counts применим метод nlargest(),\n",
    "# который возвращает n наибольших значений из Series. Зададим n=10, т. е. \n",
    "# мы хотим отобрать десять наиболее популярных подтипов. Извлечём их названия \n",
    "# с помощью атрибута index, а результат занесём в переменную popular_stypes:\n",
    "popular_types = street_type.value_counts().nlargest(10)\n",
    "print(popular_types)"
   ]
  },
  {
   "cell_type": "code",
   "execution_count": 348,
   "metadata": {},
   "outputs": [
    {
     "data": {
      "text/plain": [
       "Index(['St', 'Rd', 'Ct', 'Dr', 'Av', 'Gr', 'Pde', 'Pl', 'Cr', 'Cl'], dtype='object')"
      ]
     },
     "execution_count": 348,
     "metadata": {},
     "output_type": "execute_result"
    }
   ],
   "source": [
    "popular_types.index"
   ]
  },
  {
   "cell_type": "code",
   "execution_count": 349,
   "metadata": {},
   "outputs": [
    {
     "name": "stdout",
     "output_type": "stream",
     "text": [
      "Index(['St', 'Rd', 'Ct', 'Dr', 'Av', 'Gr', 'Pde', 'Pl', 'Cr', 'Cl'], dtype='object')\n"
     ]
    }
   ],
   "source": [
    "# Можно сделать это в одно действие\n",
    "popular_types = street_type.value_counts().nlargest(10).index\n",
    "print(popular_types)"
   ]
  },
  {
   "cell_type": "code",
   "execution_count": 350,
   "metadata": {},
   "outputs": [
    {
     "data": {
      "text/plain": [
       "0           St\n",
       "1           St\n",
       "2           St\n",
       "3        other\n",
       "4           St\n",
       "         ...  \n",
       "13575       Cr\n",
       "13576       Dr\n",
       "13577       St\n",
       "13578       St\n",
       "13579       St\n",
       "Name: StreetType, Length: 13580, dtype: object"
      ]
     },
     "metadata": {},
     "output_type": "display_data"
    }
   ],
   "source": [
    "# Теперь, когда у нас есть список наиболее популярных подтипов улиц, \n",
    "# введём lambda-функцию, которая будет проверять, есть ли строка x в \n",
    "# этом перечне, и, если это так, lambda-функция будет возвращать x, \n",
    "# в противном случае она будет возвращать строку 'other'. Наконец, \n",
    "# применим такую функцию к Series street_types, полученной ранее, \n",
    "# а результат определим в новый столбец таблицы StreetType:\n",
    "melb_df['StreetType'] = street_type.apply(lambda x: x if x in popular_types else 'other')\n",
    "display(melb_df['StreetType'])"
   ]
  },
  {
   "cell_type": "code",
   "execution_count": 351,
   "metadata": {},
   "outputs": [
    {
     "name": "stdout",
     "output_type": "stream",
     "text": [
      "11\n"
     ]
    }
   ],
   "source": [
    "print(melb_df['StreetType'].nunique())\n"
   ]
  },
  {
   "cell_type": "code",
   "execution_count": 352,
   "metadata": {},
   "outputs": [],
   "source": [
    "# удаляем столбец 'Address' так как он не несет \n",
    "# статистической нагрузки, для этого есть столбец с координатами\n",
    "melb_df = melb_df.drop('Address', axis=1)"
   ]
  },
  {
   "cell_type": "code",
   "execution_count": 353,
   "metadata": {},
   "outputs": [
    {
     "name": "stdout",
     "output_type": "stream",
     "text": [
      "1081198.64\n"
     ]
    }
   ],
   "source": [
    "def get_weekend(weekday):\n",
    "    if weekday == 5 or weekday == 6:\n",
    "        return 1\n",
    "    else:\n",
    "        return 0\n",
    "melb_df['Weekend'] = melb_df['WeekdaySale'].apply(get_weekend)\n",
    "print(round(melb_df[melb_df['Weekend']==1]['Price'].mean(), 2))"
   ]
  },
  {
   "cell_type": "code",
   "execution_count": 354,
   "metadata": {},
   "outputs": [
    {
     "name": "stdout",
     "output_type": "stream",
     "text": [
      "Index(['Nelson', 'Jellis', 'hockingstuart', 'Barry', 'Ray', 'Marshall',\n",
      "       'Buxton', 'Biggin', 'Brad', 'Fletchers', 'Woodards', 'Jas', 'Greg',\n",
      "       'McGrath', 'Sweeney', 'Noel', 'Miles', 'RT', 'Gary', 'Harcourts',\n",
      "       'Hodges', 'YPA', 'Stockdale', 'Village', 'Kay', 'Raine', 'Williams',\n",
      "       'Love', 'Douglas', 'Chisholm', 'RW', 'Rendina', 'HAR', 'O'Brien', 'C21',\n",
      "       'Collins', 'Cayzer', 'Eview', 'Purplebricks', 'Philip', 'Buckingham',\n",
      "       'Bells', 'Thomson', 'Nick', 'Alexkarbon', 'McDonald', 'Burnham',\n",
      "       'Moonee', 'LITTLE'],\n",
      "      dtype='object')\n"
     ]
    }
   ],
   "source": [
    "popular_seller = melb_df['SellerG'].value_counts().nlargest(49).index\n",
    "print(popular_seller)"
   ]
  },
  {
   "cell_type": "code",
   "execution_count": 355,
   "metadata": {},
   "outputs": [],
   "source": [
    "melb_df['SellerG'] = melb_df['SellerG'].apply(lambda x: x if x in popular_seller else 'other')"
   ]
  },
  {
   "cell_type": "code",
   "execution_count": 356,
   "metadata": {},
   "outputs": [
    {
     "data": {
      "text/plain": [
       "50"
      ]
     },
     "execution_count": 356,
     "metadata": {},
     "output_type": "execute_result"
    }
   ],
   "source": [
    "melb_df['SellerG'].nunique()"
   ]
  },
  {
   "cell_type": "code",
   "execution_count": 357,
   "metadata": {},
   "outputs": [
    {
     "name": "stdout",
     "output_type": "stream",
     "text": [
      "1.3\n"
     ]
    }
   ],
   "source": [
    "a= melb_df[melb_df['SellerG'] =='Nelson']['Price'].min()\n",
    "b = melb_df[melb_df['SellerG'] == 'other']['Price'].min()\n",
    "print(round(a/b, 1))"
   ]
  },
  {
   "cell_type": "markdown",
   "metadata": {},
   "source": [
    "# 11.5 Типы данных Category"
   ]
  },
  {
   "cell_type": "code",
   "execution_count": 358,
   "metadata": {},
   "outputs": [
    {
     "data": {
      "text/html": [
       "<div>\n",
       "<style scoped>\n",
       "    .dataframe tbody tr th:only-of-type {\n",
       "        vertical-align: middle;\n",
       "    }\n",
       "\n",
       "    .dataframe tbody tr th {\n",
       "        vertical-align: top;\n",
       "    }\n",
       "\n",
       "    .dataframe thead th {\n",
       "        text-align: right;\n",
       "    }\n",
       "</style>\n",
       "<table border=\"1\" class=\"dataframe\">\n",
       "  <thead>\n",
       "    <tr style=\"text-align: right;\">\n",
       "      <th></th>\n",
       "      <th>Column_Name</th>\n",
       "      <th>Num_Unique</th>\n",
       "      <th>Type</th>\n",
       "    </tr>\n",
       "  </thead>\n",
       "  <tbody>\n",
       "    <tr>\n",
       "      <th>0</th>\n",
       "      <td>Weekend</td>\n",
       "      <td>2</td>\n",
       "      <td>int64</td>\n",
       "    </tr>\n",
       "    <tr>\n",
       "      <th>1</th>\n",
       "      <td>Type</td>\n",
       "      <td>3</td>\n",
       "      <td>object</td>\n",
       "    </tr>\n",
       "    <tr>\n",
       "      <th>2</th>\n",
       "      <td>WeekdaySale</td>\n",
       "      <td>5</td>\n",
       "      <td>int64</td>\n",
       "    </tr>\n",
       "    <tr>\n",
       "      <th>3</th>\n",
       "      <td>Method</td>\n",
       "      <td>5</td>\n",
       "      <td>object</td>\n",
       "    </tr>\n",
       "    <tr>\n",
       "      <th>4</th>\n",
       "      <td>Regionname</td>\n",
       "      <td>8</td>\n",
       "      <td>object</td>\n",
       "    </tr>\n",
       "    <tr>\n",
       "      <th>5</th>\n",
       "      <td>Rooms</td>\n",
       "      <td>9</td>\n",
       "      <td>int64</td>\n",
       "    </tr>\n",
       "    <tr>\n",
       "      <th>6</th>\n",
       "      <td>Bathroom</td>\n",
       "      <td>9</td>\n",
       "      <td>int64</td>\n",
       "    </tr>\n",
       "    <tr>\n",
       "      <th>7</th>\n",
       "      <td>StreetType</td>\n",
       "      <td>11</td>\n",
       "      <td>object</td>\n",
       "    </tr>\n",
       "    <tr>\n",
       "      <th>8</th>\n",
       "      <td>Car</td>\n",
       "      <td>11</td>\n",
       "      <td>int64</td>\n",
       "    </tr>\n",
       "    <tr>\n",
       "      <th>9</th>\n",
       "      <td>MonthSale</td>\n",
       "      <td>12</td>\n",
       "      <td>int64</td>\n",
       "    </tr>\n",
       "    <tr>\n",
       "      <th>10</th>\n",
       "      <td>Bedroom</td>\n",
       "      <td>12</td>\n",
       "      <td>int64</td>\n",
       "    </tr>\n",
       "    <tr>\n",
       "      <th>11</th>\n",
       "      <td>CouncilArea</td>\n",
       "      <td>33</td>\n",
       "      <td>object</td>\n",
       "    </tr>\n",
       "    <tr>\n",
       "      <th>12</th>\n",
       "      <td>SellerG</td>\n",
       "      <td>50</td>\n",
       "      <td>object</td>\n",
       "    </tr>\n",
       "    <tr>\n",
       "      <th>13</th>\n",
       "      <td>Date</td>\n",
       "      <td>58</td>\n",
       "      <td>datetime64[ns]</td>\n",
       "    </tr>\n",
       "    <tr>\n",
       "      <th>14</th>\n",
       "      <td>AgeBuilding</td>\n",
       "      <td>152</td>\n",
       "      <td>int64</td>\n",
       "    </tr>\n",
       "    <tr>\n",
       "      <th>15</th>\n",
       "      <td>Postcode</td>\n",
       "      <td>198</td>\n",
       "      <td>int64</td>\n",
       "    </tr>\n",
       "    <tr>\n",
       "      <th>16</th>\n",
       "      <td>Distance</td>\n",
       "      <td>202</td>\n",
       "      <td>float64</td>\n",
       "    </tr>\n",
       "    <tr>\n",
       "      <th>17</th>\n",
       "      <td>Propertycount</td>\n",
       "      <td>311</td>\n",
       "      <td>int64</td>\n",
       "    </tr>\n",
       "    <tr>\n",
       "      <th>18</th>\n",
       "      <td>Suburb</td>\n",
       "      <td>314</td>\n",
       "      <td>object</td>\n",
       "    </tr>\n",
       "    <tr>\n",
       "      <th>19</th>\n",
       "      <td>BuildingArea</td>\n",
       "      <td>602</td>\n",
       "      <td>float64</td>\n",
       "    </tr>\n",
       "    <tr>\n",
       "      <th>20</th>\n",
       "      <td>MeanRoomsSquare</td>\n",
       "      <td>1277</td>\n",
       "      <td>float64</td>\n",
       "    </tr>\n",
       "    <tr>\n",
       "      <th>21</th>\n",
       "      <td>Landsize</td>\n",
       "      <td>1448</td>\n",
       "      <td>float64</td>\n",
       "    </tr>\n",
       "    <tr>\n",
       "      <th>22</th>\n",
       "      <td>Price</td>\n",
       "      <td>2204</td>\n",
       "      <td>float64</td>\n",
       "    </tr>\n",
       "    <tr>\n",
       "      <th>23</th>\n",
       "      <td>Lattitude</td>\n",
       "      <td>6503</td>\n",
       "      <td>float64</td>\n",
       "    </tr>\n",
       "    <tr>\n",
       "      <th>24</th>\n",
       "      <td>AreaRaito</td>\n",
       "      <td>6521</td>\n",
       "      <td>float64</td>\n",
       "    </tr>\n",
       "    <tr>\n",
       "      <th>25</th>\n",
       "      <td>Longtitude</td>\n",
       "      <td>7063</td>\n",
       "      <td>float64</td>\n",
       "    </tr>\n",
       "    <tr>\n",
       "      <th>26</th>\n",
       "      <td>Coordinates</td>\n",
       "      <td>13097</td>\n",
       "      <td>object</td>\n",
       "    </tr>\n",
       "    <tr>\n",
       "      <th>27</th>\n",
       "      <td>index</td>\n",
       "      <td>13580</td>\n",
       "      <td>int64</td>\n",
       "    </tr>\n",
       "  </tbody>\n",
       "</table>\n",
       "</div>"
      ],
      "text/plain": [
       "        Column_Name  Num_Unique            Type\n",
       "0           Weekend           2           int64\n",
       "1              Type           3          object\n",
       "2       WeekdaySale           5           int64\n",
       "3            Method           5          object\n",
       "4        Regionname           8          object\n",
       "5             Rooms           9           int64\n",
       "6          Bathroom           9           int64\n",
       "7        StreetType          11          object\n",
       "8               Car          11           int64\n",
       "9         MonthSale          12           int64\n",
       "10          Bedroom          12           int64\n",
       "11      CouncilArea          33          object\n",
       "12          SellerG          50          object\n",
       "13             Date          58  datetime64[ns]\n",
       "14      AgeBuilding         152           int64\n",
       "15         Postcode         198           int64\n",
       "16         Distance         202         float64\n",
       "17    Propertycount         311           int64\n",
       "18           Suburb         314          object\n",
       "19     BuildingArea         602         float64\n",
       "20  MeanRoomsSquare        1277         float64\n",
       "21         Landsize        1448         float64\n",
       "22            Price        2204         float64\n",
       "23        Lattitude        6503         float64\n",
       "24        AreaRaito        6521         float64\n",
       "25       Longtitude        7063         float64\n",
       "26      Coordinates       13097          object\n",
       "27            index       13580           int64"
      ]
     },
     "metadata": {},
     "output_type": "display_data"
    }
   ],
   "source": [
    "# Определим уникальные категории в каждом столбце\n",
    "# для этого создадим вспомогательную таблицу\n",
    "from enum import unique\n",
    "\n",
    "\n",
    "uique_list = []\n",
    "for col in melb_df.columns:\n",
    "    item = (col, melb_df[col].nunique(), melb_df[col].dtypes)\n",
    "    uique_list.append(item)\n",
    "unique_counts = pd.DataFrame(\n",
    "    uique_list,\n",
    "    columns=['Column_Name', 'Num_Unique', 'Type']\n",
    ").sort_values(by='Num_Unique', ignore_index=True)\n",
    "display(unique_counts)"
   ]
  },
  {
   "cell_type": "code",
   "execution_count": 359,
   "metadata": {},
   "outputs": [
    {
     "name": "stdout",
     "output_type": "stream",
     "text": [
      "<class 'pandas.core.frame.DataFrame'>\n",
      "RangeIndex: 13580 entries, 0 to 13579\n",
      "Data columns (total 28 columns):\n",
      " #   Column           Non-Null Count  Dtype         \n",
      "---  ------           --------------  -----         \n",
      " 0   index            13580 non-null  int64         \n",
      " 1   Suburb           13580 non-null  object        \n",
      " 2   Rooms            13580 non-null  int64         \n",
      " 3   Type             13580 non-null  object        \n",
      " 4   Price            13580 non-null  float64       \n",
      " 5   Method           13580 non-null  object        \n",
      " 6   SellerG          13580 non-null  object        \n",
      " 7   Date             13580 non-null  datetime64[ns]\n",
      " 8   Distance         13580 non-null  float64       \n",
      " 9   Postcode         13580 non-null  int64         \n",
      " 10  Bedroom          13580 non-null  int64         \n",
      " 11  Bathroom         13580 non-null  int64         \n",
      " 12  Car              13580 non-null  int64         \n",
      " 13  Landsize         13580 non-null  float64       \n",
      " 14  BuildingArea     13580 non-null  float64       \n",
      " 15  CouncilArea      12211 non-null  object        \n",
      " 16  Lattitude        13580 non-null  float64       \n",
      " 17  Longtitude       13580 non-null  float64       \n",
      " 18  Regionname       13580 non-null  object        \n",
      " 19  Propertycount    13580 non-null  int64         \n",
      " 20  Coordinates      13580 non-null  object        \n",
      " 21  MeanRoomsSquare  13580 non-null  float64       \n",
      " 22  AreaRaito        13580 non-null  float64       \n",
      " 23  MonthSale        13580 non-null  int64         \n",
      " 24  AgeBuilding      13580 non-null  int64         \n",
      " 25  WeekdaySale      13580 non-null  int64         \n",
      " 26  StreetType       13580 non-null  object        \n",
      " 27  Weekend          13580 non-null  int64         \n",
      "dtypes: datetime64[ns](1), float64(8), int64(11), object(8)\n",
      "memory usage: 2.9+ MB\n"
     ]
    },
    {
     "data": {
      "text/plain": [
       "None"
      ]
     },
     "metadata": {},
     "output_type": "display_data"
    }
   ],
   "source": [
    "display(melb_df.info())"
   ]
  },
  {
   "cell_type": "code",
   "execution_count": 360,
   "metadata": {},
   "outputs": [
    {
     "name": "stdout",
     "output_type": "stream",
     "text": [
      "<class 'pandas.core.frame.DataFrame'>\n",
      "RangeIndex: 13580 entries, 0 to 13579\n",
      "Data columns (total 28 columns):\n",
      " #   Column           Non-Null Count  Dtype         \n",
      "---  ------           --------------  -----         \n",
      " 0   index            13580 non-null  int64         \n",
      " 1   Suburb           13580 non-null  object        \n",
      " 2   Rooms            13580 non-null  int64         \n",
      " 3   Type             13580 non-null  category      \n",
      " 4   Price            13580 non-null  float64       \n",
      " 5   Method           13580 non-null  category      \n",
      " 6   SellerG          13580 non-null  category      \n",
      " 7   Date             13580 non-null  datetime64[ns]\n",
      " 8   Distance         13580 non-null  float64       \n",
      " 9   Postcode         13580 non-null  int64         \n",
      " 10  Bedroom          13580 non-null  int64         \n",
      " 11  Bathroom         13580 non-null  int64         \n",
      " 12  Car              13580 non-null  int64         \n",
      " 13  Landsize         13580 non-null  float64       \n",
      " 14  BuildingArea     13580 non-null  float64       \n",
      " 15  CouncilArea      12211 non-null  category      \n",
      " 16  Lattitude        13580 non-null  float64       \n",
      " 17  Longtitude       13580 non-null  float64       \n",
      " 18  Regionname       13580 non-null  category      \n",
      " 19  Propertycount    13580 non-null  int64         \n",
      " 20  Coordinates      13580 non-null  object        \n",
      " 21  MeanRoomsSquare  13580 non-null  float64       \n",
      " 22  AreaRaito        13580 non-null  float64       \n",
      " 23  MonthSale        13580 non-null  category      \n",
      " 24  AgeBuilding      13580 non-null  int64         \n",
      " 25  WeekdaySale      13580 non-null  category      \n",
      " 26  StreetType       13580 non-null  category      \n",
      " 27  Weekend          13580 non-null  category      \n",
      "dtypes: category(9), datetime64[ns](1), float64(8), int64(8), object(2)\n",
      "memory usage: 2.1+ MB\n"
     ]
    },
    {
     "data": {
      "text/plain": [
       "None"
      ]
     },
     "metadata": {},
     "output_type": "display_data"
    }
   ],
   "source": [
    "# преобразование столбцов к типу данных Category\n",
    "cols_to_exclude = ['Date', 'Rooms', 'Bedroom', 'Bathroom', 'Car']\n",
    "max_unique_count = 150\n",
    "for col in melb_df:\n",
    "    if melb_df[col].nunique() < max_unique_count and col not in cols_to_exclude:\n",
    "        melb_df[col] = melb_df[col].astype('category')\n",
    "display(melb_df.info())"
   ]
  },
  {
   "cell_type": "code",
   "execution_count": 361,
   "metadata": {},
   "outputs": [
    {
     "name": "stdout",
     "output_type": "stream",
     "text": [
      "Index(['Eastern Metropolitan', 'Eastern Victoria', 'Northern Metropolitan',\n",
      "       'Northern Victoria', 'South-Eastern Metropolitan',\n",
      "       'Southern Metropolitan', 'Western Metropolitan', 'Western Victoria'],\n",
      "      dtype='object')\n"
     ]
    }
   ],
   "source": [
    "# Получаем спико уникальных значениий\n",
    "print(melb_df['Regionname'].cat.categories)"
   ]
  },
  {
   "cell_type": "code",
   "execution_count": 362,
   "metadata": {},
   "outputs": [
    {
     "name": "stdout",
     "output_type": "stream",
     "text": [
      "0        2\n",
      "1        2\n",
      "2        2\n",
      "3        2\n",
      "4        2\n",
      "        ..\n",
      "13575    4\n",
      "13576    6\n",
      "13577    6\n",
      "13578    6\n",
      "13579    6\n",
      "Length: 13580, dtype: int8\n"
     ]
    }
   ],
   "source": [
    "# Просмотреть как закодирован цифрами\n",
    "print(melb_df['Regionname'].cat.codes)"
   ]
  },
  {
   "cell_type": "code",
   "execution_count": 363,
   "metadata": {},
   "outputs": [
    {
     "data": {
      "text/plain": [
       "0        house\n",
       "1        house\n",
       "2        house\n",
       "3        house\n",
       "4        house\n",
       "         ...  \n",
       "13575    house\n",
       "13576    house\n",
       "13577    house\n",
       "13578    house\n",
       "13579    house\n",
       "Name: Type, Length: 13580, dtype: category\n",
       "Categories (3, object): ['house', 'townhouse', 'unit']"
      ]
     },
     "metadata": {},
     "output_type": "display_data"
    }
   ],
   "source": [
    "# С помощью метода аксессора rename_categories() можно \n",
    "# легко переименовать текущие значения категорий. \n",
    "# Для этого в данный метод нужно передать словарь, \n",
    "# ключи которого — старые имена категорий, а значения — новые.\n",
    "melb_df['Type'] = melb_df['Type'].cat.rename_categories({\n",
    "    'u': 'unit',\n",
    "    't': 'townhouse',\n",
    "    'h': 'house'\n",
    "})\n",
    "display(melb_df['Type'])"
   ]
  },
  {
   "cell_type": "code",
   "execution_count": 364,
   "metadata": {},
   "outputs": [],
   "source": [
    "# При приведении новых типов к типам Category\n",
    "# new_houses_types = pd.Series(['unit', 'house', 'flat', 'flat', 'house'])\n",
    "#  = new_houses_types.astype(melb_df['Type'].dtype)\n",
    "# display(new_houses_types)"
   ]
  },
  {
   "cell_type": "code",
   "execution_count": 365,
   "metadata": {},
   "outputs": [
    {
     "data": {
      "text/plain": [
       "0     unit\n",
       "1    house\n",
       "2     flat\n",
       "3     flat\n",
       "4    house\n",
       "dtype: category\n",
       "Categories (4, object): ['house', 'townhouse', 'unit', 'flat']"
      ]
     },
     "metadata": {},
     "output_type": "display_data"
    }
   ],
   "source": [
    "melb_df['Type'] = melb_df['Type'].cat.add_categories('flat')\n",
    "new_houses_types = pd.Series(['unit', 'house', 'flat', 'flat', 'house'])\n",
    "new_houses_types = new_houses_types.astype(melb_df['Type'].dtype)\n",
    "display(new_houses_types)"
   ]
  },
  {
   "cell_type": "code",
   "execution_count": 366,
   "metadata": {},
   "outputs": [
    {
     "name": "stdout",
     "output_type": "stream",
     "text": [
      "<class 'pandas.core.frame.DataFrame'>\n",
      "RangeIndex: 13580 entries, 0 to 13579\n",
      "Data columns (total 28 columns):\n",
      " #   Column           Non-Null Count  Dtype         \n",
      "---  ------           --------------  -----         \n",
      " 0   index            13580 non-null  int64         \n",
      " 1   Suburb           13580 non-null  object        \n",
      " 2   Rooms            13580 non-null  int64         \n",
      " 3   Type             13580 non-null  category      \n",
      " 4   Price            13580 non-null  float64       \n",
      " 5   Method           13580 non-null  category      \n",
      " 6   SellerG          13580 non-null  category      \n",
      " 7   Date             13580 non-null  datetime64[ns]\n",
      " 8   Distance         13580 non-null  float64       \n",
      " 9   Postcode         13580 non-null  int64         \n",
      " 10  Bedroom          13580 non-null  int64         \n",
      " 11  Bathroom         13580 non-null  int64         \n",
      " 12  Car              13580 non-null  int64         \n",
      " 13  Landsize         13580 non-null  float64       \n",
      " 14  BuildingArea     13580 non-null  float64       \n",
      " 15  CouncilArea      12211 non-null  category      \n",
      " 16  Lattitude        13580 non-null  float64       \n",
      " 17  Longtitude       13580 non-null  float64       \n",
      " 18  Regionname       13580 non-null  category      \n",
      " 19  Propertycount    13580 non-null  int64         \n",
      " 20  Coordinates      13580 non-null  object        \n",
      " 21  MeanRoomsSquare  13580 non-null  float64       \n",
      " 22  AreaRaito        13580 non-null  float64       \n",
      " 23  MonthSale        13580 non-null  category      \n",
      " 24  AgeBuilding      13580 non-null  int64         \n",
      " 25  WeekdaySale      13580 non-null  category      \n",
      " 26  StreetType       13580 non-null  category      \n",
      " 27  Weekend          13580 non-null  category      \n",
      "dtypes: category(9), datetime64[ns](1), float64(8), int64(8), object(2)\n",
      "memory usage: 2.1+ MB\n",
      "None\n"
     ]
    }
   ],
   "source": [
    "print(melb_df.info())"
   ]
  },
  {
   "cell_type": "code",
   "execution_count": 367,
   "metadata": {},
   "outputs": [
    {
     "data": {
      "text/plain": [
       "314"
      ]
     },
     "execution_count": 367,
     "metadata": {},
     "output_type": "execute_result"
    }
   ],
   "source": [
    "melb_df['Suburb'].nunique()"
   ]
  },
  {
   "cell_type": "code",
   "execution_count": 372,
   "metadata": {},
   "outputs": [
    {
     "name": "stdout",
     "output_type": "stream",
     "text": [
      "Index(['Reservoir', 'Richmond', 'Bentleigh East', 'Preston', 'Brunswick',\n",
      "       'Essendon', 'South Yarra', 'Glen Iris', 'Hawthorn', 'Coburg',\n",
      "       ...\n",
      "       'Albion', 'Hoppers Crossing', 'Sunbury', 'Greensborough', 'Bundoora',\n",
      "       'Hughesdale', 'Chadstone', 'Caulfield North', 'Mont Albert',\n",
      "       'Alphington'],\n",
      "      dtype='object', length=119)\n"
     ]
    }
   ],
   "source": [
    "popular_suburb = melb_df['Suburb'].value_counts().nlargest(119).index\n",
    "print(popular_suburb)"
   ]
  },
  {
   "cell_type": "code",
   "execution_count": 373,
   "metadata": {},
   "outputs": [],
   "source": [
    "melb_df['Suburb'] = melb_df['Suburb'].apply(lambda x: x if x in popular_suburb else 'other')"
   ]
  },
  {
   "cell_type": "code",
   "execution_count": 376,
   "metadata": {},
   "outputs": [
    {
     "name": "stdout",
     "output_type": "stream",
     "text": [
      "<class 'pandas.core.frame.DataFrame'>\n",
      "RangeIndex: 13580 entries, 0 to 13579\n",
      "Data columns (total 28 columns):\n",
      " #   Column           Non-Null Count  Dtype         \n",
      "---  ------           --------------  -----         \n",
      " 0   index            13580 non-null  int64         \n",
      " 1   Suburb           13580 non-null  category      \n",
      " 2   Rooms            13580 non-null  int64         \n",
      " 3   Type             13580 non-null  category      \n",
      " 4   Price            13580 non-null  float64       \n",
      " 5   Method           13580 non-null  category      \n",
      " 6   SellerG          13580 non-null  category      \n",
      " 7   Date             13580 non-null  datetime64[ns]\n",
      " 8   Distance         13580 non-null  float64       \n",
      " 9   Postcode         13580 non-null  int64         \n",
      " 10  Bedroom          13580 non-null  int64         \n",
      " 11  Bathroom         13580 non-null  int64         \n",
      " 12  Car              13580 non-null  int64         \n",
      " 13  Landsize         13580 non-null  float64       \n",
      " 14  BuildingArea     13580 non-null  float64       \n",
      " 15  CouncilArea      12211 non-null  category      \n",
      " 16  Lattitude        13580 non-null  float64       \n",
      " 17  Longtitude       13580 non-null  float64       \n",
      " 18  Regionname       13580 non-null  category      \n",
      " 19  Propertycount    13580 non-null  int64         \n",
      " 20  Coordinates      13580 non-null  object        \n",
      " 21  MeanRoomsSquare  13580 non-null  float64       \n",
      " 22  AreaRaito        13580 non-null  float64       \n",
      " 23  MonthSale        13580 non-null  category      \n",
      " 24  AgeBuilding      13580 non-null  int64         \n",
      " 25  WeekdaySale      13580 non-null  category      \n",
      " 26  StreetType       13580 non-null  category      \n",
      " 27  Weekend          13580 non-null  category      \n",
      "dtypes: category(10), datetime64[ns](1), float64(8), int64(8), object(1)\n",
      "memory usage: 2.0+ MB\n",
      "None\n"
     ]
    }
   ],
   "source": [
    "melb_df['Suburb'] = melb_df['Suburb'].astype('category')\n",
    "print(melb_df.info())"
   ]
  }
 ],
 "metadata": {
  "kernelspec": {
   "display_name": "Python 3.10.5 64-bit (system)",
   "language": "python",
   "name": "python3"
  },
  "language_info": {
   "codemirror_mode": {
    "name": "ipython",
    "version": 3
   },
   "file_extension": ".py",
   "mimetype": "text/x-python",
   "name": "python",
   "nbconvert_exporter": "python",
   "pygments_lexer": "ipython3",
   "version": "3.10.5"
  },
  "orig_nbformat": 4,
  "vscode": {
   "interpreter": {
    "hash": "a57ba75b2680453b5f4b3fd3d28cd1e581bab5d5faf9a77c8bad51c2183cfaa5"
   }
  }
 },
 "nbformat": 4,
 "nbformat_minor": 2
}
