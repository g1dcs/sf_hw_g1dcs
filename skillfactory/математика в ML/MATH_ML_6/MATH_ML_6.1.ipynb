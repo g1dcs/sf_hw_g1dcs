{
 "cells": [
  {
   "cell_type": "markdown",
   "metadata": {},
   "source": [
    "# 6.1 Градиентный спуск и его виды\n"
   ]
  },
  {
   "cell_type": "code",
   "execution_count": 3,
   "metadata": {},
   "outputs": [],
   "source": [
    "import seaborn as sns\n",
    "import numpy as np\n",
    "import pandas as pd\n",
    "df = sns.load_dataset('diamonds')"
   ]
  },
  {
   "cell_type": "code",
   "execution_count": 4,
   "metadata": {},
   "outputs": [],
   "source": [
    "# удалим лишние признаки\n",
    "df.drop(['depth', 'table', 'x', 'y', 'z'], axis=1, inplace=True)\n",
    "# закодируем оставшиеся признаки\n",
    "df = pd.get_dummies(df, drop_first=True)\n",
    "\n",
    "# логорифмируем признаки\n",
    "df['carat'] = np.log(1+df['carat'])\n",
    "df['price'] = np.log(1+df['price'])\n",
    "\n",
    "# оперделим целевую переменную и предикток\n",
    "X = df.drop(columns=\"price\")\n",
    "y = df[\"price\"]"
   ]
  },
  {
   "cell_type": "markdown",
   "metadata": {},
   "source": [
    "Разделите выборку на обучающую и тестовую (объём тестовой возьмите равным 0.33), значение random_state должно быть равно 42.\n",
    "\n",
    "Теперь реализуйте алгоритм линейной регрессии со стохастическим градиентным спуском (класс SGDRegressor). Отберите с помощью GridSearchCV оптимальные параметры по следующей сетке:"
   ]
  },
  {
   "cell_type": "code",
   "execution_count": 5,
   "metadata": {},
   "outputs": [
    {
     "name": "stdout",
     "output_type": "stream",
     "text": [
      "Train:  (36139, 18) (36139,)\n",
      "Test:  (17801, 18) (17801,)\n"
     ]
    }
   ],
   "source": [
    "from sklearn.model_selection import train_test_split\n",
    "# Разделяем выборку на тренировочную и тестовую в соотношении 70/30\n",
    "# Установим random_state для воспроизводимости результатов\n",
    "X_train, X_test, y_train, y_test = train_test_split(X, y, test_size=0.33, random_state=42)\n",
    "# Выведем результируюшие таблицы\n",
    "print('Train: ', X_train.shape, y_train.shape)\n",
    "print('Test: ', X_test.shape, y_test.shape)"
   ]
  },
  {
   "cell_type": "code",
   "execution_count": 9,
   "metadata": {},
   "outputs": [
    {
     "name": "stdout",
     "output_type": "stream",
     "text": [
      "{'alpha': 0.001, 'eta0': 0.001, 'l1_ratio': 0.0, 'learning_rate': 'constant', 'loss': 'epsilon_insensitive', 'penalty': 'elasticnet'}\n"
     ]
    },
    {
     "data": {
      "text/plain": [
       "0.044"
      ]
     },
     "execution_count": 9,
     "metadata": {},
     "output_type": "execute_result"
    }
   ],
   "source": [
    "# Создадим класс линейной регрессии c SGD\n",
    "from sklearn import linear_model\n",
    "from sklearn.model_selection import GridSearchCV\n",
    "from sklearn.metrics import mean_squared_error\n",
    "\n",
    "param = {\"loss\": [\"squared_error\", \"epsilon_insensitive\"],\n",
    "\"penalty\": [\"elasticnet\"],\n",
    "\"alpha\": np.logspace(-3, 3, 10),\n",
    "\"l1_ratio\": np.linspace(0, 1, 10),\n",
    "\"learning_rate\": [\"constant\"],\n",
    "\"eta0\": np.logspace(-4, -1, 4)}\n",
    "\n",
    "grid_search = GridSearchCV(\n",
    "    estimator=linear_model.SGDRegressor(\n",
    "        random_state=42, #генератор случайных чисел\n",
    "        max_iter=1000 #количество итераций на сходимость\n",
    "    ), \n",
    "    param_grid=param, \n",
    "    cv=5, \n",
    "    n_jobs = -1\n",
    ")  \n",
    "\n",
    "grid_search.fit(X_train, y_train)\n",
    "\n",
    "print(grid_search.best_params_)\n",
    "\n",
    "sgd = linear_model.SGDRegressor(**grid_search.best_params_, random_state = 42)\n",
    "\n",
    "sgd.fit(X_train, y_train)\n",
    "sgd.score(X_train, y_train) # r2\n",
    "ls = sgd.predict(X_test)\n",
    "\n",
    "round(mean_squared_error(y_test, ls), 3)"
   ]
  },
  {
   "cell_type": "markdown",
   "metadata": {},
   "source": [
    "# 6.3 Метод Ньютона"
   ]
  },
  {
   "cell_type": "code",
   "execution_count": 8,
   "metadata": {},
   "outputs": [
    {
     "name": "stdout",
     "output_type": "stream",
     "text": [
      "0.6296335078534031\n",
      "0.6286680781673306\n",
      "0.6286669787778999\n",
      "0.6286669787764609\n",
      "4\n"
     ]
    }
   ],
   "source": [
    "# Задание 3.1\n",
    "\n",
    "def func1(x):\n",
    "    return 6*x**5-5*x**4-4*x**3+3*x**2\n",
    " \n",
    "def func2(x):\n",
    "    return 30*x**4-20*x**3-12*x**2+6*x\n",
    "init_value = 0.7\n",
    "iter_count = 0\n",
    "x_curr = init_value\n",
    "epsilon = 0.000001\n",
    "f = func1(x_curr)\n",
    " \n",
    "while (abs(f) > epsilon):\n",
    "    f = func1(x_curr)\n",
    "    f_prime = func2(x_curr)\n",
    "    x_curr = x_curr - (f)/(f_prime)\n",
    "    iter_count += 1\n",
    "    print(x_curr)\n",
    "print(iter_count)"
   ]
  },
  {
   "cell_type": "markdown",
   "metadata": {},
   "source": [
    "Оптимизация функции $f(x)=x^3-2*x^2-45*x+40$ при помощи метода ньютона"
   ]
  },
  {
   "cell_type": "code",
   "execution_count": 10,
   "metadata": {},
   "outputs": [],
   "source": [
    "# Найдем первую и вторую производную\n",
    "def func1(x):\n",
    "    return 3*x**2 - 6*x -45\n",
    "def func2(x):\n",
    "    return 6*x - 6"
   ]
  },
  {
   "cell_type": "markdown",
   "metadata": {},
   "source": [
    "Теперь необходимо взять какую-нибудь изначальную точку. Например, пусть это будет точка $x=42$. Также нам необходима точность — её возьмем равной 0.0001. На каждом шаге будем переходить в следующую точку по уже упомянутой выше формуле:"
   ]
  },
  {
   "cell_type": "code",
   "execution_count": 11,
   "metadata": {},
   "outputs": [
    {
     "name": "stdout",
     "output_type": "stream",
     "text": [
      "21.695121951219512\n",
      "11.734125501243229\n",
      "7.1123493600499685\n",
      "5.365000391507974\n",
      "5.015260627016227\n",
      "5.000029000201801\n",
      "5.000000000105126\n",
      "5.000000000000001\n"
     ]
    }
   ],
   "source": [
    "initial_value = 42\n",
    "iter_count = 0\n",
    "x_curr = initial_value\n",
    "epsilon = 0.0001\n",
    "f = func1(x_curr)\n",
    "\n",
    "while (abs(f) > epsilon):\n",
    "    f = func1(x_curr)\n",
    "    f_prime = func2(x_curr)\n",
    "    x_curr = x_curr - (f)/(f_prime)\n",
    "    iter_count += 1\n",
    "    print(x_curr)"
   ]
  },
  {
   "cell_type": "code",
   "execution_count": 12,
   "metadata": {},
   "outputs": [
    {
     "data": {
      "text/plain": [
       "5.0"
      ]
     },
     "execution_count": 12,
     "metadata": {},
     "output_type": "execute_result"
    }
   ],
   "source": [
    "# Или можно сократить запись и написать как:\n",
    "def newtons_method(f, fprime, x0, tol=0.0001):\n",
    "    iter_count = 0\n",
    "    x_curr = x0\n",
    "    f_val = f(x_curr)\n",
    "    while (abs(f_val) > tol):\n",
    "        f_val = f(x_curr)\n",
    "        f_prime_val = fprime(x_curr)\n",
    "        x_curr = x_curr - (f_val)/(f_prime_val)\n",
    "        iter_count += 1\n",
    "    return x_curr\n",
    "\n",
    "newtons_method(f=func1, fprime=func2, x0=50, tol=0.0001)"
   ]
  },
  {
   "cell_type": "code",
   "execution_count": 13,
   "metadata": {},
   "outputs": [
    {
     "data": {
      "text/plain": [
       "5.0"
      ]
     },
     "execution_count": 13,
     "metadata": {},
     "output_type": "execute_result"
    }
   ],
   "source": [
    "from scipy.optimize import newton\n",
    "newton(func=func1, fprime=func2, x0=50, tol=0.0001)"
   ]
  },
  {
   "cell_type": "code",
   "execution_count": 14,
   "metadata": {},
   "outputs": [
    {
     "name": "stdout",
     "output_type": "stream",
     "text": [
      "10.21111111111111\n",
      "9.756461564762278\n",
      "9.727252176332618\n",
      "9.72713442131889\n",
      "9.727134419408875\n",
      "5\n"
     ]
    }
   ],
   "source": [
    "# Задание 3.6\n",
    "\n",
    "def func1(x):\n",
    "    return x**3 -72*x -220\n",
    " \n",
    "def func2(x):\n",
    "    return 3*x**2 -72\n",
    "init_value = 12\n",
    "iter_count = 0\n",
    "x_curr = init_value\n",
    "epsilon = 0.000001\n",
    "f = func1(x_curr)\n",
    " \n",
    "while (abs(f) > epsilon):\n",
    "    f = func1(x_curr)\n",
    "    f_prime = func2(x_curr)\n",
    "    x_curr = x_curr - (f)/(f_prime)\n",
    "    iter_count += 1\n",
    "    print(x_curr)\n",
    "print(iter_count)"
   ]
  },
  {
   "cell_type": "code",
   "execution_count": 15,
   "metadata": {},
   "outputs": [
    {
     "name": "stdout",
     "output_type": "stream",
     "text": [
      "0.7343283582089555\n",
      "0.5291259698087832\n",
      "0.5249395544696249\n",
      "0.5249378105607477\n",
      "0.5249378105604451\n",
      "5\n"
     ]
    }
   ],
   "source": [
    "# Задание 3.7\n",
    "\n",
    "def func1(x):\n",
    "    return x**2+9*x - 5\n",
    " \n",
    "def func2(x):\n",
    "    return 2*x+9\n",
    "init_value = 2.2\n",
    "iter_count = 0\n",
    "x_curr = init_value\n",
    "epsilon = 0.000001\n",
    "f = func1(x_curr)\n",
    " \n",
    "while (abs(f) > epsilon):\n",
    "    f = func1(x_curr)\n",
    "    f_prime = func2(x_curr)\n",
    "    x_curr = x_curr - (f)/(f_prime)\n",
    "    iter_count += 1\n",
    "    print(x_curr)\n",
    "print(iter_count)"
   ]
  },
  {
   "cell_type": "code",
   "execution_count": 16,
   "metadata": {},
   "outputs": [
    {
     "data": {
      "text/plain": [
       "0.16666666666666785"
      ]
     },
     "execution_count": 16,
     "metadata": {},
     "output_type": "execute_result"
    }
   ],
   "source": [
    "# Task 3.9\n",
    "def func1(x):\n",
    "    return 24*x**2 - 4*x\n",
    " \n",
    "def func2(x):\n",
    "    return 48*x -4\n",
    "\n",
    "def newtons_method(f, fprime, x0, tol=0.0001):\n",
    "    iter_count = 0\n",
    "    x_curr = x0\n",
    "    f_val = f(x_curr)\n",
    "    while (abs(f_val) > tol):\n",
    "        f_val = f(x_curr)\n",
    "        f_prime_val = fprime(x_curr)\n",
    "        x_curr = x_curr - (f_val)/(f_prime_val)\n",
    "        iter_count += 1\n",
    "    return x_curr\n",
    "\n",
    "newtons_method(f=func1, fprime=func2, x0=42, tol=0.0001)"
   ]
  },
  {
   "cell_type": "markdown",
   "metadata": {},
   "source": [
    "# 6.4 Квазиньютоновские методы"
   ]
  },
  {
   "cell_type": "code",
   "execution_count": 1,
   "metadata": {},
   "outputs": [],
   "source": [
    "import numpy as np\n",
    "from scipy.optimize import minimize"
   ]
  },
  {
   "cell_type": "markdown",
   "metadata": {},
   "source": [
    "Давайте рассмотрим, как с помощью функций Python мы сможем применить квазиньютоновские методы для оптимизации функции $f(x,y)=x^2+y^2$ "
   ]
  },
  {
   "cell_type": "code",
   "execution_count": 2,
   "metadata": {},
   "outputs": [
    {
     "name": "stdout",
     "output_type": "stream",
     "text": [
      "Статус оптимизации Optimization terminated successfully.\n",
      "Количество оценок: 3\n",
      "Решение: f([0. 0.]) = 0.00000\n"
     ]
    }
   ],
   "source": [
    "# Определим функцию, которую будем оптимизировать. Вместо отдельных x и y можно взять координаты единого вектора:\n",
    "\n",
    "def func(x):\n",
    "    return x[0]**2.0 + x[1]**2.0\n",
    "\n",
    "# Теперь определим градиент для функции:\n",
    "def grad_func(x):\n",
    "    return np.array([x[0] * 2, x[1] * 2])\n",
    "\n",
    "# Зададим начальную точку\n",
    "x_0 =[1.0, 1.0]\n",
    "\n",
    "# Определим алгоритм\n",
    "\n",
    "result = minimize(func, x_0, method='BFGS', jac=grad_func)\n",
    "\n",
    "print('Статус оптимизации %s' % result['message'])\n",
    "print('Количество оценок: %d' % result['nfev'])\n",
    "solution = result['x']\n",
    "evaluation = func(solution)\n",
    "print('Решение: f(%s) = %.5f' % (solution, evaluation))"
   ]
  },
  {
   "cell_type": "code",
   "execution_count": 3,
   "metadata": {},
   "outputs": [
    {
     "name": "stdout",
     "output_type": "stream",
     "text": [
      "Статус оптимизации CONVERGENCE: NORM_OF_PROJECTED_GRADIENT_<=_PGTOL\n",
      "Количество оценок: 3\n",
      "Решение: f([0. 0.]) = 0.00000\n"
     ]
    }
   ],
   "source": [
    "# Можно повторить то же самое с вариацией  L-BFGS-B:\n",
    "\n",
    "# определяем нашу функцию\n",
    "def func(x):\n",
    "    return x[0]**2.0 + x[1]**2.0\n",
    " \n",
    "#  определяем градиент функции\n",
    "def grad_func(x):\n",
    "    return np.array([x[0] * 2, x[1] * 2])\n",
    " \n",
    "# определяем начальную точку\n",
    "x_0 = [1, 1]\n",
    "# реализуем алгоритм L-BFGS-B\n",
    "result = minimize(func, x_0, method='L-BFGS-B', jac=grad_func)\n",
    "# получаем результат\n",
    "print('Статус оптимизации %s' % result['message'])\n",
    "print('Количество оценок: %d' % result['nfev'])\n",
    "solution = result['x']\n",
    "evaluation = func(solution)\n",
    "print('Решение: f(%s) = %.5f' % (solution, evaluation))"
   ]
  },
  {
   "cell_type": "code",
   "execution_count": 5,
   "metadata": {},
   "outputs": [
    {
     "name": "stdout",
     "output_type": "stream",
     "text": [
      "Статус оптимизации CONVERGENCE: NORM_OF_PROJECTED_GRADIENT_<=_PGTOL\n",
      "Количество оценок: 9\n",
      "Решение: f([-3.99999972  1.00000028]) = -1.00000\n"
     ]
    }
   ],
   "source": [
    "# Task 4.1\n",
    "\n",
    "def func1(x):\n",
    "    return x[0]**2 -x[0]*x[1] + x[1]**2 + 9*x[0] - 6*x[1] + 20\n",
    "\n",
    "def grad_func1(x):\n",
    "    return np.array([2*x[0] - x[1] + 9, -x[0] + 2*x[1] - 6])\n",
    "\n",
    "x_0 = [-400, -400]\n",
    "\n",
    "\n",
    "# реализуем алгоритм L-BFGS-B\n",
    "result = minimize(func1, x_0, method='L-BFGS-B', jac=grad_func1)\n",
    "# получаем результат\n",
    "print('Статус оптимизации %s' % result['message'])\n",
    "print('Количество оценок: %d' % result['nfev'])\n",
    "solution = result['x']\n",
    "evaluation = func1(solution)\n",
    "print('Решение: f(%s) = %.5f' % (solution, evaluation))\n"
   ]
  },
  {
   "cell_type": "code",
   "execution_count": 8,
   "metadata": {},
   "outputs": [
    {
     "name": "stdout",
     "output_type": "stream",
     "text": [
      "Статус оптимизации CONVERGENCE: NORM_OF_PROJECTED_GRADIENT_<=_PGTOL\n",
      "Количество оценок: 3\n",
      "Решение: f([1.5]) = 42.75000\n"
     ]
    }
   ],
   "source": [
    "# Task 4.4\n",
    "# Определим функцию, которую будем оптимизировать. Вместо отдельных x и y можно взять координаты единого вектора:\n",
    "\n",
    "def func(x):\n",
    "    return x**2 - 3*x +45\n",
    "\n",
    "# Теперь определим градиент для функции:\n",
    "def grad_func(x):\n",
    "    return 2*x - 3\n",
    "\n",
    "# Зададим начальную точку\n",
    "x_0 =[10]\n",
    "\n",
    "# Определим алгоритм\n",
    "\n",
    "result = minimize(func, x_0, method='L-BFGS-B', jac=grad_func)\n",
    "\n",
    "print('Статус оптимизации %s' % result['message'])\n",
    "print('Количество оценок: %d' % result['nfev'])\n",
    "solution = result['x']\n",
    "evaluation = func(solution)\n",
    "print('Решение: f(%s) = %.5f' % (solution, evaluation))"
   ]
  },
  {
   "cell_type": "code",
   "execution_count": 9,
   "metadata": {},
   "outputs": [
    {
     "name": "stdout",
     "output_type": "stream",
     "text": [
      "Статус оптимизации CONVERGENCE: REL_REDUCTION_OF_F_<=_FACTR*EPSMCH\n",
      "Количество оценок: 40\n",
      "Решение: f([-9.52718297e-03 -2.32170510e-06]) = 10.00000\n",
      "Статус оптимизации Optimization terminated successfully.\n",
      "Количество оценок: 37\n",
      "Решение: f([1.31617159e-02 6.65344582e-14]) = 10.00000\n"
     ]
    }
   ],
   "source": [
    "# TAsk 4.7\n",
    "\n",
    "def func1(x):\n",
    "    return x[0]**4 + 6*x[1]**2 + 10\n",
    "\n",
    "def grad_func1(x):\n",
    "    return np.array([4*x[0]**3, 12*x[1]])\n",
    "\n",
    "x_0 = [100, 100]\n",
    "\n",
    "\n",
    "# реализуем алгоритм L-BFGS-B\n",
    "result = minimize(func1, x_0, method='L-BFGS-B', jac=grad_func1)\n",
    "# получаем результат\n",
    "print('Статус оптимизации %s' % result['message'])\n",
    "print('Количество оценок: %d' % result['nfev'])\n",
    "solution = result['x']\n",
    "evaluation = func1(solution)\n",
    "print('Решение: f(%s) = %.5f' % (solution, evaluation))\n",
    "\n",
    "result_1 = minimize(func1, x_0, method='BFGS', jac=grad_func1)\n",
    "# получаем результат\n",
    "print('Статус оптимизации %s' % result_1['message'])\n",
    "print('Количество оценок: %d' % result_1['nfev'])\n",
    "solution = result_1['x']\n",
    "evaluation = func1(solution)\n",
    "print('Решение: f(%s) = %.5f' % (solution, evaluation))"
   ]
  },
  {
   "cell_type": "markdown",
   "metadata": {},
   "source": [
    "# 6.6 Практика линейного програмирования"
   ]
  },
  {
   "cell_type": "markdown",
   "metadata": {},
   "source": [
    "В языке Python есть множество библиотек, с помощью которых можно решить задачу линейного программирования. Вот основные, которые мы рассмотрим в данном юните:\n",
    "\n",
    "- SciPy (scipy.optimize.linprog);\n",
    "- CVXPY; \n",
    "- PuLP."
   ]
  },
  {
   "cell_type": "markdown",
   "metadata": {},
   "source": [
    "У нас есть 6 товаров с заданными ценами на них и заданной массой.\n",
    "\n",
    "Вместимость сумки, в которую мы можем положить товары, заранее известна и равна 15 кг.\n",
    "\n",
    "Какой товар и в каком объёме необходимо взять, чтобы сумма всех цен товаров была максимальной?"
   ]
  },
  {
   "cell_type": "code",
   "execution_count": 1,
   "metadata": {},
   "outputs": [
    {
     "data": {
      "text/plain": [
       "           con: array([], dtype=float64)\n",
       " crossover_nit: 0\n",
       "         eqlin:  marginals: array([], dtype=float64)\n",
       "  residual: array([], dtype=float64)\n",
       "           fun: -52.5\n",
       "       ineqlin:  marginals: array([-3.5])\n",
       "  residual: array([0.])\n",
       "         lower:  marginals: array([13.5, 29.5, 27. ,  0. , 18. , 11.5])\n",
       "  residual: array([0. , 0. , 0. , 7.5, 0. , 0. ])\n",
       "       message: 'Optimization terminated successfully. (HiGHS Status 7: Optimal)'\n",
       "           nit: 0\n",
       "         slack: array([0.])\n",
       "        status: 0\n",
       "       success: True\n",
       "         upper:  marginals: array([0., 0., 0., 0., 0., 0.])\n",
       "  residual: array([inf, inf, inf, inf, inf, inf])\n",
       "             x: array([0. , 0. , 0. , 7.5, 0. , 0. ])"
      ]
     },
     "execution_count": 1,
     "metadata": {},
     "output_type": "execute_result"
    }
   ],
   "source": [
    "import numpy as np\n",
    "\n",
    "# Создадим переменные\n",
    "values = [4, 2, 1, 7, 3, 6] #стоимости товаров\n",
    "weights = [5, 9, 8, 2, 6, 5] #вес товаров\n",
    "C = 15 #вместимость сумки\n",
    "n = 6 #количество товаров\n",
    "\n",
    "# Зададим вектора\n",
    "c = - np.array(values) #изменяем знак, чтобы перейти от задачи максимизации к задаче минимизации\n",
    "A = np.array(weights)  #конвертируем список с весами в массив\n",
    "A = np.expand_dims(A, 0) #преобразуем размерность массива\n",
    "b = np.array([C]) #конвертируем вместимость в массив\n",
    "\n",
    "from scipy.optimize import linprog\n",
    "linprog(c=c, A_ub=A, b_ub=b)\n",
    "\n"
   ]
  },
  {
   "cell_type": "code",
   "execution_count": 2,
   "metadata": {},
   "outputs": [
    {
     "data": {
      "text/plain": [
       "array([-0., -0., -0.,  7., -0.,  0.])"
      ]
     },
     "execution_count": 2,
     "metadata": {},
     "output_type": "execute_result"
    }
   ],
   "source": [
    "import cvxpy\n",
    "x = cvxpy.Variable(shape=n, integer = True) # С помощью CVXPY создадим переменную-массив. \n",
    "                                            #Укажем его размерность, а также условие, что все числа в массиве должны быть целыми\n",
    "                                            \n",
    "A = A.flatten() # Преобразуем размерность массива\n",
    "constraint = cvxpy.sum(cvxpy.multiply(A, x)) <= C\n",
    "total_value = cvxpy.sum(cvxpy.multiply(x, c))\n",
    "\n",
    "x = cvxpy.Variable(shape=n, integer=True)\n",
    "constraint = cvxpy.sum(cvxpy.multiply(A, x)) <= C\n",
    "x_positive = x >= 0 # необходимо чтоб ответ не ушел в бесконечность\n",
    "total_value = cvxpy.sum(cvxpy.multiply(x, c))\n",
    "\n",
    "problem = cvxpy.Problem(\n",
    "    cvxpy.Minimize(total_value), constraints=[constraint, x_positive]\n",
    ")\n",
    "\n",
    "problem.solve()\n",
    "x.value"
   ]
  },
  {
   "cell_type": "code",
   "execution_count": 4,
   "metadata": {},
   "outputs": [
    {
     "data": {
      "text/plain": [
       "array([1., 0., 0., 1., 0., 1.])"
      ]
     },
     "execution_count": 4,
     "metadata": {},
     "output_type": "execute_result"
    }
   ],
   "source": [
    "# если можно брать не целые значения \n",
    "\n",
    "x = cvxpy.Variable(shape=n, boolean=True)\n",
    "constraint = cvxpy.sum(cvxpy.multiply(A, x)) <= C\n",
    "x_positive = x >= 0\n",
    "total_value = cvxpy.sum(cvxpy.multiply(x, c))\n",
    "\n",
    "problem = cvxpy.Problem(\n",
    "    cvxpy.Minimize(total_value), constraints=[constraint, x_positive]\n",
    ")\n",
    "\n",
    "problem.solve()\n",
    "x.value\n"
   ]
  },
  {
   "cell_type": "markdown",
   "metadata": {},
   "source": [
    "В нашей каршеринговой компании две модели автомобилей: модель *А* и модель *В*. Автомобиль *А* даёт прибыль в размере 20 тысяч в месяц, а автомобиль *В* — 45 тысяч в месяц. Мы хотим заказать на заводе новые автомобили и максимизировать прибыль. Однако на производство и ввод в эксплуатацию автомобилей понадобится время:\n",
    "\n",
    "- Проектировщику требуется 4 дня, чтобы подготовить документы для производства каждого автомобиля типа *А*, и 5 дней — для каждого автомобиля типа *В*.\n",
    "- Заводу требуется 3 дня, чтобы изготовить модель *А*, и 6 дней, чтобы изготовить модель *В*.\n",
    "- Менеджеру требуется 2 дня, чтобы ввести в эксплуатацию в компании автомобиль *А*, и 7 дней —  автомобиль *В*.\n",
    "- Каждый специалист может работать суммарно 30 дней."
   ]
  },
  {
   "cell_type": "code",
   "execution_count": 6,
   "metadata": {},
   "outputs": [
    {
     "name": "stdout",
     "output_type": "stream",
     "text": [
      "Количество автомобилей модели А:  1.0\n",
      "Количество автомобилей модели В:  4.0\n",
      "Суммарный доход:  200000.0\n"
     ]
    }
   ],
   "source": [
    "from pulp import *\n",
    "\n",
    "problem = LpProblem('Производство машин', LpMaximize)\n",
    "A = LpVariable('Автомобиль A', lowBound=0 , cat=LpInteger)\n",
    "B = LpVariable('Автомобиль B', lowBound=0 , cat=LpInteger)\n",
    "\n",
    "#Целевая функция\n",
    "problem += 20000*A + 45000*B \n",
    "#Ограничения\n",
    "\n",
    "problem += 4*A + 5*B <= 30 \n",
    "problem += 3*A + 6*B <=30\n",
    "problem += 2*A + 7*B <=30\n",
    "problem.solve()\n",
    "\n",
    "\n",
    "print(\"Количество автомобилей модели А: \", A.varValue)\n",
    "print(\"Количество автомобилей модели В: \", B.varValue)\n",
    "print(\"Суммарный доход: \", value(problem.objective))"
   ]
  },
  {
   "cell_type": "code",
   "execution_count": 12,
   "metadata": {},
   "outputs": [
    {
     "name": "stdout",
     "output_type": "stream",
     "text": [
      "Количество товара на складе x_1:  110.0\n",
      "Количество товара на складе x_2:  0.0\n",
      "Количество товара на складе x_3:  70.0\n",
      "Количество товара на складе y_1:  0.0\n",
      "Количество товара на складе y_2:  150.0\n",
      "Количество товара на складе y_3:  70.0\n",
      "Суммарный доход:  1900.0\n"
     ]
    },
    {
     "name": "stderr",
     "output_type": "stream",
     "text": [
      "c:\\Users\\Павел\\AppData\\Local\\Programs\\Python\\Python310\\lib\\site-packages\\pulp\\pulp.py:1352: UserWarning: Spaces are not permitted in the name. Converted to '_'\n",
      "  warnings.warn(\"Spaces are not permitted in the name. Converted to '_'\")\n"
     ]
    }
   ],
   "source": [
    "# Task 6.1\n",
    "\n",
    "problem = LpProblem('Производство машин', LpMinimize)\n",
    "x_1 = LpVariable('x_1', lowBound=0 , cat=LpInteger)\n",
    "x_2 = LpVariable('x_2', lowBound=0 , cat=LpInteger)\n",
    "x_3 = LpVariable('x_3', lowBound=0 , cat=LpInteger)\n",
    "y_1 = LpVariable('y_1', lowBound=0 , cat=LpInteger)\n",
    "y_2 = LpVariable('y_2', lowBound=0 , cat=LpInteger)\n",
    "y_3 = LpVariable('y_3', lowBound=0 , cat=LpInteger)\n",
    "\n",
    "\n",
    "#Целевая функция\n",
    "problem += 2*x_1 + 5*x_2 + 3* x_3 + 7*y_1 + 7*y_2 + 6*y_3 \n",
    "#Ограничения\n",
    "\n",
    "problem += x_1 + x_2 + x_3 <= 180 \n",
    "problem += y_1 + y_2 + y_3 <= 220 \n",
    "problem += x_1 + y_1 >= 110\n",
    "problem += x_2 + y_2 >= 150\n",
    "problem += x_3 + y_3 >= 140\n",
    "problem.solve()\n",
    "\n",
    "\n",
    "print(\"Количество товара на складе x_1: \", x_1.varValue)\n",
    "print(\"Количество товара на складе x_2: \", x_2.varValue)\n",
    "print(\"Количество товара на складе x_3: \", x_3.varValue)\n",
    "print(\"Количество товара на складе y_1: \", y_1.varValue)\n",
    "print(\"Количество товара на складе y_2: \", y_2.varValue)\n",
    "print(\"Количество товара на складе y_3: \", y_3.varValue)\n",
    "print(\"Суммарный доход: \", value(problem.objective))"
   ]
  },
  {
   "cell_type": "code",
   "execution_count": 13,
   "metadata": {},
   "outputs": [
    {
     "name": "stdout",
     "output_type": "stream",
     "text": [
      "32.0\n",
      "[[ 0.  0. -0.  0.  1.]\n",
      " [ 0.  0.  1.  0.  0.]\n",
      " [ 1. -0.  0.  0.  0.]\n",
      " [ 0.  1.  0.  0. -0.]\n",
      " [-0.  0.  0.  1.  0.]]\n"
     ]
    }
   ],
   "source": [
    "# Task 6.2\n",
    "import numpy as np\n",
    "import cvxpy\n",
    "\n",
    "# Задаем матрицу A, где A[i, j] - затраты на выполнение задачи i исполнителем j\n",
    "A = np.array([[1000, 12, 10, 19, 8],\n",
    "              [12, 1000, 3, 7, 2],\n",
    "              [10, 3, 1000, 6, 20],\n",
    "              [19, 7, 6, 1000, 4],\n",
    "              [8, 2, 20, 4, 1000]])\n",
    "\n",
    "# Определяем бинарные переменные\n",
    "x = cvxpy.Variable(shape=(5, 5), boolean=True)\n",
    "\n",
    "# Определяем переменную y, которая является транспонированной матрицей x\n",
    "y = x.T\n",
    "\n",
    "# Определяем ограничения\n",
    "x_0 = cvxpy.sum(x[0]) >= 1\n",
    "x_1 = cvxpy.sum(x[1]) >= 1\n",
    "x_2 = cvxpy.sum(x[2]) >= 1\n",
    "x_3 = cvxpy.sum(x[3]) >= 1\n",
    "x_4 = cvxpy.sum(x[4]) >= 1\n",
    "\n",
    "# Каждый исполнитель должен быть назначен хотя бы на одну задачу\n",
    "# Сумма элементов каждого столбца матрицы y должна быть больше или равна 1\n",
    "z0 = cvxpy.sum(y[0]) >= 1\n",
    "z1 = cvxpy.sum(y[1]) >= 1\n",
    "z2 = cvxpy.sum(y[2]) >= 1\n",
    "z3 = cvxpy.sum(y[3]) >= 1\n",
    "z4 = cvxpy.sum(y[4]) >= 1\n",
    "\n",
    "# Определяем целевую функцию, которую нужно минимизировать\n",
    "# Суммарные затраты на работы\n",
    "total_value = cvxpy.sum(cvxpy.multiply(x, A))\n",
    "\n",
    "# Определяем задачу оптимизации\n",
    "problem = cvxpy.Problem(\n",
    "    cvxpy.Minimize(total_value),\n",
    "    constraints=[\n",
    "        cvxpy.sum(x, axis=0) == np.ones(5),\n",
    "        cvxpy.sum(x, axis=1) == np.ones(5)\n",
    "    ]\n",
    ")\n",
    "\n",
    "# Решаем задачу оптимизации\n",
    "result = problem.solve()\n",
    "\n",
    "# Выводим оптимальное значение функции (минимальные затраты)\n",
    "print(result)\n",
    "\n",
    "# Получаем значения переменных x после решения задачи\n",
    "x_values = x.value\n",
    "\n",
    "# Выводим значения переменных x\n",
    "print(x_values)"
   ]
  }
 ],
 "metadata": {
  "kernelspec": {
   "display_name": "Python 3",
   "language": "python",
   "name": "python3"
  },
  "language_info": {
   "codemirror_mode": {
    "name": "ipython",
    "version": 3
   },
   "file_extension": ".py",
   "mimetype": "text/x-python",
   "name": "python",
   "nbconvert_exporter": "python",
   "pygments_lexer": "ipython3",
   "version": "3.10.5"
  }
 },
 "nbformat": 4,
 "nbformat_minor": 2
}
