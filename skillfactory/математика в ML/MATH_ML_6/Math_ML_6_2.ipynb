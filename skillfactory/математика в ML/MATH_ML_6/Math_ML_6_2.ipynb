{
  "nbformat": 4,
  "nbformat_minor": 0,
  "metadata": {
    "colab": {
      "provenance": []
    },
    "kernelspec": {
      "name": "python3",
      "display_name": "Python 3"
    },
    "language_info": {
      "name": "python"
    }
  },
  "cells": [
    {
      "cell_type": "code",
      "source": [
        "pip install pulp"
      ],
      "metadata": {
        "colab": {
          "base_uri": "https://localhost:8080/"
        },
        "id": "iNBlU0ITfi76",
        "outputId": "42202bd0-d7b1-49d6-abf3-696281ba610c"
      },
      "execution_count": null,
      "outputs": [
        {
          "output_type": "stream",
          "name": "stdout",
          "text": [
            "Looking in indexes: https://pypi.org/simple, https://us-python.pkg.dev/colab-wheels/public/simple/\n",
            "Collecting pulp\n",
            "  Downloading PuLP-2.7.0-py3-none-any.whl (14.3 MB)\n",
            "\u001b[2K     \u001b[90m━━━━━━━━━━━━━━━━━━━━━━━━━━━━━━━━━━━━━━━━\u001b[0m \u001b[32m14.3/14.3 MB\u001b[0m \u001b[31m64.7 MB/s\u001b[0m eta \u001b[36m0:00:00\u001b[0m\n",
            "\u001b[?25hInstalling collected packages: pulp\n",
            "Successfully installed pulp-2.7.0\n"
          ]
        }
      ]
    },
    {
      "cell_type": "markdown",
      "source": [
        "# Вариант №1 Решение Михаила, с подсказкой от Анастасии"
      ],
      "metadata": {
        "id": "JkMJy4Eg295I"
      }
    },
    {
      "cell_type": "code",
      "source": [
        "import numpy as np\n",
        "import cvxpy\n",
        "\n",
        "# Задаем матрицу A, где A[i, j] - затраты на выполнение задачи i исполнителем j\n",
        "A = np.array([[1000, 12, 10, 19, 8],\n",
        "              [12, 1000, 3, 7, 2],\n",
        "              [10, 3, 1000, 6, 20],\n",
        "              [19, 7, 6, 1000, 4],\n",
        "              [8, 2, 20, 4, 1000]])\n",
        "\n",
        "# Определяем бинарные переменные\n",
        "x = cvxpy.Variable(shape=(5, 5), boolean=True)\n",
        "\n",
        "# Определяем переменную y, которая является транспонированной матрицей x\n",
        "y = x.T\n",
        "\n",
        "# Определяем ограничения\n",
        "x_0 = cvxpy.sum(x[0]) >= 1\n",
        "x_1 = cvxpy.sum(x[1]) >= 1\n",
        "x_2 = cvxpy.sum(x[2]) >= 1\n",
        "x_3 = cvxpy.sum(x[3]) >= 1\n",
        "x_4 = cvxpy.sum(x[4]) >= 1\n",
        "\n",
        "# Каждый исполнитель должен быть назначен хотя бы на одну задачу\n",
        "# Сумма элементов каждого столбца матрицы y должна быть больше или равна 1\n",
        "z0 = cvxpy.sum(y[0]) >= 1\n",
        "z1 = cvxpy.sum(y[1]) >= 1\n",
        "z2 = cvxpy.sum(y[2]) >= 1\n",
        "z3 = cvxpy.sum(y[3]) >= 1\n",
        "z4 = cvxpy.sum(y[4]) >= 1\n",
        "\n",
        "# Определяем целевую функцию, которую нужно минимизировать\n",
        "# Суммарные затраты на работы\n",
        "total_value = cvxpy.sum(cvxpy.multiply(x, A))\n",
        "\n",
        "# Определяем задачу оптимизации\n",
        "problem = cvxpy.Problem(\n",
        "    cvxpy.Minimize(total_value),\n",
        "    constraints=[\n",
        "        cvxpy.sum(x, axis=0) == np.ones(5),\n",
        "        cvxpy.sum(x, axis=1) == np.ones(5)\n",
        "    ]\n",
        ")\n",
        "\n",
        "# Решаем задачу оптимизации\n",
        "result = problem.solve()\n",
        "\n",
        "# Выводим оптимальное значение функции (минимальные затраты)\n",
        "print(result)\n",
        "\n",
        "# Получаем значения переменных x после решения задачи\n",
        "x_values = x.value\n",
        "\n",
        "# Выводим значения переменных x\n",
        "print(x_values)\n"
      ],
      "metadata": {
        "colab": {
          "base_uri": "https://localhost:8080/"
        },
        "id": "EprYaZqBRNp2",
        "outputId": "e9ce634c-35c7-45ef-93d0-1d9ff2dcc54d"
      },
      "execution_count": null,
      "outputs": [
        {
          "output_type": "stream",
          "name": "stdout",
          "text": [
            "32.0\n",
            "[[0. 0. 0. 0. 1.]\n",
            " [0. 0. 0. 1. 0.]\n",
            " [0. 1. 0. 0. 0.]\n",
            " [0. 0. 1. 0. 0.]\n",
            " [1. 0. 0. 0. 0.]]\n"
          ]
        }
      ]
    },
    {
      "cell_type": "markdown",
      "source": [
        "# Вариант №2 - Доработанное мною решение Михаила и Анастасии, с ипользованием циклов"
      ],
      "metadata": {
        "id": "e5C_OmjX33Dp"
      }
    },
    {
      "cell_type": "code",
      "source": [
        "import numpy as np\n",
        "import cvxpy\n",
        "\n",
        "# Задаем матрицу A, где A[i, j] - затраты на выполнение задачи i исполнителем j\n",
        "A = np.array([[1000, 12, 10, 19, 8],\n",
        "              [12, 1000, 3, 7, 2],\n",
        "              [10, 3, 1000, 6, 20],\n",
        "              [19, 7, 6, 1000, 4],\n",
        "              [8, 2, 20, 4, 1000]])\n",
        "\n",
        "# Определяем бинарные переменные\n",
        "x = cvxpy.Variable(shape=(5, 5), boolean=True)\n",
        "\n",
        "# Определяем переменную y, которая является транспонированной матрицей x\n",
        "y = x.T\n",
        "\n",
        "# Определяем ограничения\n",
        "constraints_x = [cvxpy.sum(x[i]) >= 1 for i in range(5)]\n",
        "constraints_y = [cvxpy.sum(y[i]) >= 1 for i in range(5)]\n",
        "additional_constraints = [\n",
        "    cvxpy.sum(x, axis=0) == np.ones(5),\n",
        "    cvxpy.sum(x, axis=1) == np.ones(5)\n",
        "]\n",
        "\n",
        "# Определяем целевую функцию, которую нужно минимизировать\n",
        "# Суммарные затраты на работы\n",
        "total_value = cvxpy.sum(cvxpy.multiply(x, A))\n",
        "\n",
        "# Определяем задачу оптимизации\n",
        "problem = cvxpy.Problem(\n",
        "    cvxpy.Minimize(total_value),\n",
        "    constraints=[\n",
        "        cvxpy.sum(x, axis=0) == np.ones(5),\n",
        "        cvxpy.sum(x, axis=1) == np.ones(5)\n",
        "    ]\n",
        ")\n",
        "\n",
        "# Решаем задачу оптимизации\n",
        "result = problem.solve()\n",
        "\n",
        "# Выводим оптимальное значение функции (минимальные затраты)\n",
        "print(result)\n",
        "\n",
        "# Получаем значения переменных x после решения задачи\n",
        "x_values = x.value\n",
        "\n",
        "# Выводим значения переменных x\n",
        "print(x_values)\n",
        "\n"
      ],
      "metadata": {
        "colab": {
          "base_uri": "https://localhost:8080/"
        },
        "id": "zcmDn3icSQLh",
        "outputId": "5c7aec1f-9d0b-47d8-9679-398c49e74e68"
      },
      "execution_count": null,
      "outputs": [
        {
          "output_type": "stream",
          "name": "stdout",
          "text": [
            "32.0\n",
            "[[0. 0. 0. 0. 1.]\n",
            " [0. 0. 0. 1. 0.]\n",
            " [0. 1. 0. 0. 0.]\n",
            " [0. 0. 1. 0. 0.]\n",
            " [1. 0. 0. 0. 0.]]\n"
          ]
        }
      ]
    },
    {
      "cell_type": "markdown",
      "source": [
        "# Вариант №3 Решение с помощью модуля PuLP"
      ],
      "metadata": {
        "id": "pkkl5r71DaRp"
      }
    },
    {
      "cell_type": "code",
      "source": [
        "pip install pulp"
      ],
      "metadata": {
        "colab": {
          "base_uri": "https://localhost:8080/"
        },
        "id": "zoq-TqS2EBH7",
        "outputId": "40edfc9a-a556-4cc0-9731-7bf9436169e7"
      },
      "execution_count": null,
      "outputs": [
        {
          "output_type": "stream",
          "name": "stdout",
          "text": [
            "Looking in indexes: https://pypi.org/simple, https://us-python.pkg.dev/colab-wheels/public/simple/\n",
            "Collecting pulp\n",
            "  Downloading PuLP-2.7.0-py3-none-any.whl (14.3 MB)\n",
            "\u001b[2K     \u001b[90m━━━━━━━━━━━━━━━━━━━━━━━━━━━━━━━━━━━━━━━━\u001b[0m \u001b[32m14.3/14.3 MB\u001b[0m \u001b[31m67.3 MB/s\u001b[0m eta \u001b[36m0:00:00\u001b[0m\n",
            "\u001b[?25hInstalling collected packages: pulp\n",
            "Successfully installed pulp-2.7.0\n"
          ]
        }
      ]
    },
    {
      "cell_type": "code",
      "source": [
        "import numpy as np\n",
        "from pulp import *\n",
        "\n",
        "# Задаем матрицу A, где A[i, j] - затраты на выполнение задачи i исполнителем j\n",
        "A = np.array([[1000, 12, 10, 19, 8],\n",
        "              [12, 1000, 3, 7, 2],\n",
        "              [10, 3, 1000, 6, 20],\n",
        "              [19, 7, 6, 1000, 4],\n",
        "              [8, 2, 20, 4, 1000]])\n",
        "\n",
        "# Создаем проблему линейного программирования\n",
        "prob = LpProblem(\"Task_Allocation\", LpMinimize)\n",
        "\n",
        "# Создаем переменные решения\n",
        "x = LpVariable.dicts(\n",
        "    \"x\",\n",
        "    [(i, j) for i in range(5) for j in range(5)],\n",
        "    cat=LpBinary\n",
        ")\n",
        "\n",
        "# Определяем целевую функцию, которую нужно минимизировать\n",
        "total_value = lpSum([A[i, j] * x[(i, j)] for i in range(5) for j in range(5)])\n",
        "prob += total_value\n",
        "\n",
        "# Определяем ограничения\n",
        "\n",
        "# Каждая задача должна быть выполнена хотя бы одним исполнителем\n",
        "for i in range(5):\n",
        "    prob += lpSum([x[(i, j)] for j in range(5)]) >= 1\n",
        "\n",
        "# Каждый исполнитель должен быть назначен хотя бы на одну задачу\n",
        "for j in range(5):\n",
        "    prob += lpSum([x[(i, j)] for i in range(5)]) >= 1\n",
        "\n",
        "# Дополнительные ограничения\n",
        "prob += lpSum([x[(i, j)] for i in range(5) for j in range(5)]) == 5  # Сумма всех переменных должна быть равна 5\n",
        "for i in range(5):\n",
        "    prob += lpSum([x[(i, j)] for j in range(5)]) <= 2  # Каждая задача не может быть назначена более чем двум исполнителям\n",
        "for j in range(5):\n",
        "    prob += lpSum([x[(i, j)] for i in range(5)]) <= 2  # Каждый исполнитель не может быть назначен более чем двум задачам\n",
        "\n",
        "# Решаем задачу линейного программирования\n",
        "prob.solve()\n",
        "\n",
        "# Выводим оптимальное значение функции (минимальные затраты)\n",
        "print(\"Total Value:\", value(prob.objective))\n"
      ],
      "metadata": {
        "colab": {
          "base_uri": "https://localhost:8080/"
        },
        "id": "3HFdcXeiE4xV",
        "outputId": "a086ff84-504a-4ed6-8f37-d87fd2ca0b59"
      },
      "execution_count": null,
      "outputs": [
        {
          "output_type": "stream",
          "name": "stdout",
          "text": [
            "Total Value: 32.0\n"
          ]
        }
      ]
    },
    {
      "cell_type": "markdown",
      "source": [
        "# Вариант №4 Решение с помощью модуля SciPY и циклов"
      ],
      "metadata": {
        "id": "rhmmpC5VGQJh"
      }
    },
    {
      "cell_type": "code",
      "source": [
        "import numpy as np\n",
        "from scipy.optimize import linprog\n",
        "\n",
        "# Задаем матрицу с, где с[i, j] - затраты на выполнение задачи i исполнителем j\n",
        "c = np.array([[1000, 12, 10, 19, 8],\n",
        "              [12, 1000, 3, 7, 2],\n",
        "              [10, 3, 1000, 6, 20],\n",
        "              [19, 7, 6, 1000, 4],\n",
        "              [8, 2, 20, 4, 1000]])\n",
        "\n",
        "# Количество переменных\n",
        "n = c.shape[0]\n",
        "\n",
        "# Матрица A_eq для ограничений суммы по строкам и столбцам\n",
        "A_eq = np.zeros((2 * n, n ** 2))\n",
        "for i in range(n):\n",
        "    for j in range(n):\n",
        "        A_eq[i, i * n + j] = 1  # Сумма по строкам\n",
        "        A_eq[n + j, i * n + j] = 1  # Сумма по столбцам\n",
        "b_eq = np.ones(2 * n)\n",
        "\n",
        "# Матрица A_ub и вектор b_ub для ограничений булевых переменных\n",
        "A_ub = np.zeros((n ** 2, n ** 2))\n",
        "for i in range(n):\n",
        "    for j in range(n):\n",
        "        A_ub[i * n + j, i * n + j] = 1  # x[i, j] <= 1\n",
        "        for k in range(n):\n",
        "            A_ub[i * n + j, i * n + k] = -1  # x[i, j] - x[i, k] <= 0\n",
        "            A_ub[i * n + j, k * n + j] = -1  # x[i, j] - x[k, j] <= 0\n",
        "b_ub = np.zeros(n ** 2)\n",
        "\n",
        "# Границы для переменных x\n",
        "bounds = [(0, 1)] * (n ** 2)\n",
        "\n",
        "# Решение задачи линейного программирования\n",
        "result = linprog(c.flatten(), A_ub=A_ub, b_ub=b_ub,\n",
        "                 A_eq=A_eq, b_eq=b_eq, bounds=bounds)\n",
        "x_values = np.round(result.x).reshape((n, n))\n",
        "\n",
        "print(\"Результат оптимизации:\")\n",
        "print(\"Статус решения:\", result.message)\n",
        "print(\"Оптимальное значение:\", result.fun)\n",
        "print(\"Оптимальные значения переменных x:\")\n",
        "print(x_values)\n"
      ],
      "metadata": {
        "colab": {
          "base_uri": "https://localhost:8080/"
        },
        "id": "LD-3QvhuXEF0",
        "outputId": "84b91c0c-90f1-49bc-e2f7-80dba7847f28"
      },
      "execution_count": null,
      "outputs": [
        {
          "output_type": "stream",
          "name": "stdout",
          "text": [
            "Результат оптимизации:\n",
            "Статус решения: Optimization terminated successfully. (HiGHS Status 7: Optimal)\n",
            "Оптимальное значение: 32.0\n",
            "Оптимальные значения переменных x:\n",
            "[[ 0.  0.  1.  0. -0.]\n",
            " [ 0.  0. -0.  1.  0.]\n",
            " [-0.  1.  0.  0.  0.]\n",
            " [ 0.  0.  0.  0.  1.]\n",
            " [ 1.  0.  0. -0.  0.]]\n"
          ]
        }
      ]
    },
    {
      "cell_type": "markdown",
      "source": [
        "# Вариант №5 Решение с помощью модуля SciPy и Numpy вместо циклов"
      ],
      "metadata": {
        "id": "SWKeVE5AGbCl"
      }
    },
    {
      "cell_type": "code",
      "source": [
        "import numpy as np\n",
        "from scipy.optimize import linprog\n",
        "\n",
        "# Задаем матрицу с, где с[i, j] - затраты на выполнение задачи i исполнителем j\n",
        "c = np.array([[1000, 12, 10, 19, 8],\n",
        "              [12, 1000, 3, 7, 2],\n",
        "              [10, 3, 1000, 6, 20],\n",
        "              [19, 7, 6, 1000, 4],\n",
        "              [8, 2, 20, 4, 1000]])\n",
        "\n",
        "# Количество переменных\n",
        "n = c.shape[0]\n",
        "\n",
        "# Матрица A_eq для ограничений суммы по строкам и столбцам\n",
        "A_eq = np.vstack((np.kron(np.eye(n), np.ones((1, n))),\n",
        "                  np.kron(np.ones((1, n)), np.eye(n))))\n",
        "b_eq = np.ones(2 * n)\n",
        "\n",
        "# Матрица A_ub и вектор b_ub для ограничений булевых переменных\n",
        "A_ub = np.eye(n ** 2)\n",
        "A_ub -= np.kron(np.eye(n), np.ones((n, n)))\n",
        "A_ub -= np.kron(np.ones((n, n)), np.eye(n))\n",
        "b_ub = np.zeros(n ** 2)\n",
        "\n",
        "bounds = [(0, 1)] * (n ** 2)\n",
        "\n",
        "# Решение задачи оптимизации\n",
        "result = linprog(c.flatten(), A_ub=A_ub, b_ub=b_ub,\n",
        "                 A_eq=A_eq, b_eq=b_eq, bounds=bounds)\n",
        "\n",
        "if result.success:\n",
        "    x_values = np.round(result.x).reshape((n, n))\n",
        "    print(\"Результат оптимизации:\")\n",
        "    print(\"Статус решения:\", result.message)\n",
        "    print(\"Оптимальное значение:\", result.fun)\n",
        "    print(\"Оптимальные значения переменных x:\")\n",
        "    print(x_values)\n",
        "else:\n",
        "    print(\"Ошибка в оптимизации:\", result.message)\n"
      ],
      "metadata": {
        "colab": {
          "base_uri": "https://localhost:8080/"
        },
        "id": "qU7FeZBjlbZ3",
        "outputId": "f91aa489-f939-467d-b37d-232079eb5769"
      },
      "execution_count": null,
      "outputs": [
        {
          "output_type": "stream",
          "name": "stdout",
          "text": [
            "Результат оптимизации:\n",
            "Статус решения: Optimization terminated successfully. (HiGHS Status 7: Optimal)\n",
            "Оптимальное значение: 32.0\n",
            "Оптимальные значения переменных x:\n",
            "[[ 0.  0.  1.  0. -0.]\n",
            " [ 0.  0. -0.  1.  0.]\n",
            " [-0.  1.  0.  0.  0.]\n",
            " [ 0.  0.  0.  0.  1.]\n",
            " [ 1.  0.  0. -0.  0.]]\n"
          ]
        }
      ]
    },
    {
      "cell_type": "markdown",
      "source": [
        "# Вариант #6 Совместное использование SciPy & PuLP (Mix and Match)"
      ],
      "metadata": {
        "id": "V58SpsPPgpyy"
      }
    },
    {
      "cell_type": "code",
      "source": [
        "import numpy as np\n",
        "from scipy.optimize import minimize\n",
        "import pulp\n",
        "\n",
        "# Задаем матрицу A\n",
        "A = np.array([[1000, 12, 10, 19, 8],\n",
        "              [12, 1000, 3, 7, 2],\n",
        "              [10, 3, 1000, 6, 20],\n",
        "              [19, 7, 6, 1000, 4],\n",
        "              [8, 2, 20, 4, 1000]])\n",
        "\n",
        "# Создаем модель PuLP\n",
        "model = pulp.LpProblem(\"Assignment Problem\", pulp.LpMinimize)\n",
        "\n",
        "# Определяем переменные решения\n",
        "variable_range = [(i, j) for i in range(5) for j in range(5)]\n",
        "x = pulp.LpVariable.dicts(\"x\", variable_range, cat=\"Binary\")\n",
        "\n",
        "# Определяем целевую функцию\n",
        "model += pulp.lpSum(A[i, j] * x[(i, j)] for i in range(5) for j in range(5))\n",
        "\n",
        "# Определяем ограничения\n",
        "for i in range(5):\n",
        "    model += pulp.lpSum(x[(i, j)] for j in range(5)) == 1\n",
        "    model += pulp.lpSum(x[(j, i)] for j in range(5)) == 1\n",
        "\n",
        "# Решаем модель PuLP\n",
        "model.solve()\n",
        "\n",
        "# Получаем значения переменных x из решения\n",
        "x_values = np.array([[pulp.value(x[(i, j)]) for j in range(5)] \n",
        "                     for i in range(5)])\n",
        "\n",
        "# Преобразуем значения переменных x в одномерный массив \n",
        "# для использования в scipy.optimize.minimize\n",
        "x0 = x_values.flatten()\n",
        "\n",
        "# Определяем функцию для оптимизации\n",
        "def objective(x):\n",
        "    x = np.reshape(x, (5, 5))\n",
        "    return np.sum(np.multiply(x, A))\n",
        "\n",
        "# Определяем ограничения\n",
        "def constraint(x):\n",
        "    x = np.reshape(x, (5, 5))\n",
        "    constraints = []\n",
        "    constraints.append(np.sum(x, axis=0) - 1)\n",
        "    constraints.append(np.sum(x, axis=1) - 1)\n",
        "    return constraints\n",
        "\n",
        "# Определяем границы переменных (0 или 1)\n",
        "bounds = [(0, 1)] * 25\n",
        "\n",
        "# Определяем ограничения в виде словаря\n",
        "constraints = [{'type': 'eq', 'fun': lambda x: c} for c in constraint(x0)]\n",
        "\n",
        "# Решаем задачу оптимизации\n",
        "result = minimize(objective, x0, method='SLSQP',\n",
        "                  bounds=bounds, constraints=constraints)\n",
        "\n",
        "# Выводим оптимальное значение функции (минимальные затраты)\n",
        "print(\"Total Value:\", result.fun)\n",
        "\n",
        "# Получаем значения переменных x после решения задачи\n",
        "x_values = np.reshape(result.x, (5, 5))\n",
        "\n",
        "# Выводим значения переменных x\n",
        "print(x_values)\n"
      ],
      "metadata": {
        "colab": {
          "base_uri": "https://localhost:8080/"
        },
        "id": "1GOzu77ZLNCe",
        "outputId": "c4f25ed6-5aac-4fb0-bb61-ab8c70de3b02"
      },
      "execution_count": null,
      "outputs": [
        {
          "output_type": "stream",
          "name": "stdout",
          "text": [
            "Total Value: 32.0\n",
            "[[0. 0. 0. 0. 1.]\n",
            " [0. 0. 1. 0. 0.]\n",
            " [1. 0. 0. 0. 0.]\n",
            " [0. 1. 0. 0. 0.]\n",
            " [0. 0. 0. 1. 0.]]\n"
          ]
        }
      ]
    }
  ]
}