{
 "cells": [
  {
   "attachments": {},
   "cell_type": "markdown",
   "metadata": {},
   "source": [
    "# Множества и операции над ними\n"
   ]
  },
  {
   "attachments": {},
   "cell_type": "markdown",
   "metadata": {},
   "source": [
    "- Во множестве *А* будут храниться уникальные ID клиентов компании, которые пользуются мобильной связью.\n",
    "- Во множестве *В* — уникальные ID клиентов компании, которые используют домашний интернет."
   ]
  },
  {
   "cell_type": "code",
   "execution_count": 1,
   "metadata": {},
   "outputs": [],
   "source": [
    "A = {'ID453', 'ID312', 'ID41', 'ID3', 'ID500', 'ID920', 'ID36', 'ID27'}\n",
    "B = {'ID41', 'ID36', 'ID27', 'ID124', 'ID7', 'ID501', 'ID91' }"
   ]
  },
  {
   "attachments": {},
   "cell_type": "markdown",
   "metadata": {},
   "source": [
    "## Объединение множеств\n",
    "Для того чтобы найти объединение множеств, можно использовать метод union(). В качестве результата мы получим тех клиентов, которые используют хотя бы одну из двух услуг компании:"
   ]
  },
  {
   "cell_type": "code",
   "execution_count": 2,
   "metadata": {},
   "outputs": [
    {
     "name": "stdout",
     "output_type": "stream",
     "text": [
      "{'ID124', 'ID41', 'ID500', 'ID91', 'ID453', 'ID36', 'ID920', 'ID501', 'ID27', 'ID3', 'ID312', 'ID7'}\n"
     ]
    }
   ],
   "source": [
    "union_AB = A.union(B)\n",
    "print(union_AB)"
   ]
  },
  {
   "cell_type": "code",
   "execution_count": 3,
   "metadata": {},
   "outputs": [
    {
     "name": "stdout",
     "output_type": "stream",
     "text": [
      "{'ID124', 'ID41', 'ID500', 'ID91', 'ID453', 'ID36', 'ID920', 'ID501', 'ID27', 'ID3', 'ID312', 'ID7'}\n"
     ]
    }
   ],
   "source": [
    "# Метод union() можно заменить простой вертикальной чертой:\n",
    "union_AB = A | B\n",
    "print(union_AB)"
   ]
  },
  {
   "attachments": {},
   "cell_type": "markdown",
   "metadata": {},
   "source": [
    "## ПЕРЕСЕЧЕНИЕ МНОЖЕСТВ\n",
    "\n",
    "Для нахождения пересечения множеств используется метод intersection(). В контексте нашего примера мы получим клиентов, которые пользуются обеими услугами:"
   ]
  },
  {
   "cell_type": "code",
   "execution_count": 4,
   "metadata": {},
   "outputs": [
    {
     "name": "stdout",
     "output_type": "stream",
     "text": [
      "{'ID27', 'ID36', 'ID41'}\n"
     ]
    }
   ],
   "source": [
    "inter_AB = A.intersection(B)\n",
    "print(inter_AB)"
   ]
  },
  {
   "cell_type": "code",
   "execution_count": 5,
   "metadata": {},
   "outputs": [
    {
     "name": "stdout",
     "output_type": "stream",
     "text": [
      "{'ID27', 'ID36', 'ID41'}\n"
     ]
    }
   ],
   "source": [
    "# акже мы можем заменить метод intersection() на амперсанд (&) — результат будет идентичным:\n",
    "inter_AB = A & B\n",
    "print(inter_AB)"
   ]
  },
  {
   "attachments": {},
   "cell_type": "markdown",
   "metadata": {},
   "source": [
    "## РАЗНОСТЬ МНОЖЕСТВ\n",
    "\n",
    "Для того чтобы получить разность между двумя множествами, применим метод difference(). В данном случае мы получим перечень тех клиентов, которые используют мобильную связь, однако не используют домашний интернет."
   ]
  },
  {
   "cell_type": "code",
   "execution_count": 6,
   "metadata": {},
   "outputs": [
    {
     "name": "stdout",
     "output_type": "stream",
     "text": [
      "{'ID500', 'ID453', 'ID920', 'ID3', 'ID312'}\n"
     ]
    }
   ],
   "source": [
    "dif_AB = A.difference(B)\n",
    "print(dif_AB)"
   ]
  },
  {
   "cell_type": "code",
   "execution_count": 7,
   "metadata": {},
   "outputs": [
    {
     "name": "stdout",
     "output_type": "stream",
     "text": [
      "{'ID500', 'ID453', 'ID920', 'ID3', 'ID312'}\n"
     ]
    }
   ],
   "source": [
    "# Здесь также есть вариант замены метода символом — в данном случае это знак «минус»:\n",
    "dif_AB = A - B\n",
    "print(dif_AB)"
   ]
  },
  {
   "attachments": {},
   "cell_type": "markdown",
   "metadata": {},
   "source": [
    "## СИММЕТРИЧЕСКАЯ РАЗНОСТЬ\n",
    "\n",
    "Для вывода симметрической разности можно использовать метод symmetric_difference() или оператор ^. В качестве результата получим клиентов, которые пользуются только какой-то одной из услуг:"
   ]
  },
  {
   "cell_type": "code",
   "execution_count": 9,
   "metadata": {},
   "outputs": [
    {
     "name": "stdout",
     "output_type": "stream",
     "text": [
      "{'ID124', 'ID500', 'ID920', 'ID3', 'ID312', 'ID453', 'ID501', 'ID91', 'ID7'}\n",
      "{'ID124', 'ID500', 'ID920', 'ID3', 'ID312', 'ID453', 'ID501', 'ID91', 'ID7'}\n"
     ]
    }
   ],
   "source": [
    "symmAB = A.symmetric_difference(B)\n",
    "print(symmAB)\n",
    "\n",
    "\n",
    "symmAB = A ^ B\n",
    "print(symmAB)"
   ]
  },
  {
   "attachments": {},
   "cell_type": "markdown",
   "metadata": {},
   "source": [
    "# Библиотека SymPy"
   ]
  },
  {
   "cell_type": "code",
   "execution_count": 12,
   "metadata": {},
   "outputs": [
    {
     "name": "stdout",
     "output_type": "stream",
     "text": [
      "{1, 3, 7, 10} {1, 7, 9}\n"
     ]
    },
    {
     "data": {
      "text/latex": [
       "$\\displaystyle \\left\\{1, 3, 7, 9, 10\\right\\}$"
      ],
      "text/plain": [
       "{1, 3, 7, 9, 10}"
      ]
     },
     "execution_count": 12,
     "metadata": {},
     "output_type": "execute_result"
    }
   ],
   "source": [
    "# из библиотеки импортируем функции для создания множества и объединения\n",
    "from sympy import FiniteSet, Union\n",
    "# задидм несколько списков\n",
    "l1 = [1, 3, 7, 10] \n",
    "l2 = [9, 7, 1] \n",
    "# из списков создадим множества\n",
    "a = FiniteSet(*l1) \n",
    "b = FiniteSet(*l2) \n",
    "print(a, b)\n",
    "# объеденим созданные множества\n",
    "Union(a, b)"
   ]
  },
  {
   "attachments": {},
   "cell_type": "markdown",
   "metadata": {},
   "source": [
    ">Также с помощью этой библиотеки можно задать множество не прямым перечислением элементов, а с помощью условий и математических выражений (это то, о чём мы говорили ранее). Интересно то, что мы получим не прямое перечисление элементов, а именно математическую запись."
   ]
  },
  {
   "cell_type": "code",
   "execution_count": 13,
   "metadata": {},
   "outputs": [
    {
     "data": {
      "text/latex": [
       "$\\displaystyle \\left\\{x\\; \\middle|\\; x \\in \\left[2, 9\\right] \\wedge x^{2} - 5 x = 0 \\right\\}$"
      ],
      "text/plain": [
       "ConditionSet(x, Eq(x**2 - 5*x, 0), Interval(2, 9))"
      ]
     },
     "execution_count": 13,
     "metadata": {},
     "output_type": "execute_result"
    }
   ],
   "source": [
    "from sympy import ConditionSet, Eq, Symbol, Interval\n",
    "x=Symbol('x')\n",
    "s=ConditionSet(x, Eq(x**2-5*x,0), Interval(2,9))\n",
    "s"
   ]
  },
  {
   "attachments": {},
   "cell_type": "markdown",
   "metadata": {},
   "source": [
    "В данном примере мы задали множество, в котором находятся все числа из отрезка от 2 до 9, для которых верно, что они являются корнями уравнения $x^2 -5x = 0$ ."
   ]
  },
  {
   "cell_type": "code",
   "execution_count": 25,
   "metadata": {},
   "outputs": [
    {
     "name": "stdout",
     "output_type": "stream",
     "text": [
      "8 5\n",
      "{'0071235@gmail.ru', 'darcy@abc.com', 'marimari@xyz.com'}\n",
      "10\n",
      "7\n"
     ]
    }
   ],
   "source": [
    "# Task\n",
    "prog = {'bennet@xyz.com',\n",
    "'darcy@abc.com',\n",
    "'margaret@xyz.com',\n",
    "'pa@hhh.com',\n",
    "'marimari@xyz.com',\n",
    "'mallika@yahoo.com',\n",
    "'abc@xyz.com',\n",
    "'0071235@gmail.ru'\n",
    "}\n",
    "ML = {'marimari@xyz.com',\n",
    "'darcy@abc.com',\n",
    "'0071235@gmail.ru',\n",
    "'darcy@abc.com',\n",
    "'petr44@xyz.com',\n",
    "'katrin@ya.com'\n",
    "}\n",
    "print(len(prog), len(ML))\n",
    "\n",
    "union = prog.intersection(ML)\n",
    "print(union)\n",
    "union_mail = prog | ML\n",
    "print(len(union_mail))\n",
    "\n",
    "simmetrics = prog ^ML\n",
    "print(len(simmetrics))\n",
    "\n"
   ]
  }
 ],
 "metadata": {
  "kernelspec": {
   "display_name": "Python 3",
   "language": "python",
   "name": "python3"
  },
  "language_info": {
   "codemirror_mode": {
    "name": "ipython",
    "version": 3
   },
   "file_extension": ".py",
   "mimetype": "text/x-python",
   "name": "python",
   "nbconvert_exporter": "python",
   "pygments_lexer": "ipython3",
   "version": "3.10.5"
  },
  "orig_nbformat": 4
 },
 "nbformat": 4,
 "nbformat_minor": 2
}
