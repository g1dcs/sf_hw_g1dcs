{
 "cells": [
  {
   "cell_type": "code",
   "execution_count": 1,
   "metadata": {},
   "outputs": [],
   "source": [
    "import pickle\n",
    "from datetime import datetime\n",
    "from os import path\n",
    "\n",
    "class Dumper():\n",
    "    def __init__(self, archive_dir='archive/'):\n",
    "        self.archive_dir = archive_dir\n",
    "    \n",
    "    \n",
    "    def dump(self, data):\n",
    "        # библиотека pickle позволяет класть и дастовать объект в файл\n",
    "        with open(self.get_file_name(), 'wb') as file:\n",
    "            pickle.dump(data, file)\n",
    "    \n",
    "    def load_for_day(self, day):\n",
    "        file_name = path.join(self.archive_dir, day + '.pkl')\n",
    "        with open(file_name, 'rb') as file:\n",
    "            sets =  pickle.load(file)\n",
    "        return sets\n",
    "    \n",
    "    # Возврашает корректное имя для файла\n",
    "    \n",
    "    def get_file_name(self):\n",
    "        today = datetime.now().strftime('%y-%m-%d')\n",
    "        return path.join(self.archive_dir, today +'.pkl')\n",
    "    "
   ]
  }
 ],
 "metadata": {
  "kernelspec": {
   "display_name": "Python 3.10.5 64-bit",
   "language": "python",
   "name": "python3"
  },
  "language_info": {
   "codemirror_mode": {
    "name": "ipython",
    "version": 3
   },
   "file_extension": ".py",
   "mimetype": "text/x-python",
   "name": "python",
   "nbconvert_exporter": "python",
   "pygments_lexer": "ipython3",
   "version": "3.10.5"
  },
  "orig_nbformat": 4,
  "vscode": {
   "interpreter": {
    "hash": "a57ba75b2680453b5f4b3fd3d28cd1e581bab5d5faf9a77c8bad51c2183cfaa5"
   }
  }
 },
 "nbformat": 4,
 "nbformat_minor": 2
}
